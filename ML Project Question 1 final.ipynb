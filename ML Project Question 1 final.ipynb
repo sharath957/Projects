{
 "cells": [
  {
   "cell_type": "code",
   "execution_count": 1,
   "metadata": {},
   "outputs": [],
   "source": [
    "import numpy as np\n",
    "import pandas as pd\n",
    "import matplotlib.pyplot as plt   \n",
    "import seaborn as sns\n",
    "from sklearn.model_selection import train_test_split,GridSearchCV\n",
    "from sklearn.linear_model import LogisticRegression\n",
    "from sklearn import metrics\n",
    "from sklearn.metrics import roc_auc_score,roc_curve,classification_report,confusion_matrix,plot_confusion_matrix\n",
    "from sklearn.discriminant_analysis import LinearDiscriminantAnalysis\n",
    "from sklearn import metrics,model_selection\n",
    "from sklearn.preprocessing import scale\n",
    "import warnings \n",
    "warnings.filterwarnings(\"ignore\")"
   ]
  },
  {
   "cell_type": "code",
   "execution_count": 2,
   "metadata": {},
   "outputs": [],
   "source": [
    "df = pd.read_excel('Election_Data.xlsx')   "
   ]
  },
  {
   "cell_type": "code",
   "execution_count": 3,
   "metadata": {},
   "outputs": [
    {
     "data": {
      "text/html": [
       "<div>\n",
       "<style scoped>\n",
       "    .dataframe tbody tr th:only-of-type {\n",
       "        vertical-align: middle;\n",
       "    }\n",
       "\n",
       "    .dataframe tbody tr th {\n",
       "        vertical-align: top;\n",
       "    }\n",
       "\n",
       "    .dataframe thead th {\n",
       "        text-align: right;\n",
       "    }\n",
       "</style>\n",
       "<table border=\"1\" class=\"dataframe\">\n",
       "  <thead>\n",
       "    <tr style=\"text-align: right;\">\n",
       "      <th></th>\n",
       "      <th>Unnamed: 0</th>\n",
       "      <th>vote</th>\n",
       "      <th>age</th>\n",
       "      <th>economic.cond.national</th>\n",
       "      <th>economic.cond.household</th>\n",
       "      <th>Blair</th>\n",
       "      <th>Hague</th>\n",
       "      <th>Europe</th>\n",
       "      <th>political.knowledge</th>\n",
       "      <th>gender</th>\n",
       "    </tr>\n",
       "  </thead>\n",
       "  <tbody>\n",
       "    <tr>\n",
       "      <th>0</th>\n",
       "      <td>1</td>\n",
       "      <td>Labour</td>\n",
       "      <td>43</td>\n",
       "      <td>3</td>\n",
       "      <td>3</td>\n",
       "      <td>4</td>\n",
       "      <td>1</td>\n",
       "      <td>2</td>\n",
       "      <td>2</td>\n",
       "      <td>female</td>\n",
       "    </tr>\n",
       "    <tr>\n",
       "      <th>1</th>\n",
       "      <td>2</td>\n",
       "      <td>Labour</td>\n",
       "      <td>36</td>\n",
       "      <td>4</td>\n",
       "      <td>4</td>\n",
       "      <td>4</td>\n",
       "      <td>4</td>\n",
       "      <td>5</td>\n",
       "      <td>2</td>\n",
       "      <td>male</td>\n",
       "    </tr>\n",
       "    <tr>\n",
       "      <th>2</th>\n",
       "      <td>3</td>\n",
       "      <td>Labour</td>\n",
       "      <td>35</td>\n",
       "      <td>4</td>\n",
       "      <td>4</td>\n",
       "      <td>5</td>\n",
       "      <td>2</td>\n",
       "      <td>3</td>\n",
       "      <td>2</td>\n",
       "      <td>male</td>\n",
       "    </tr>\n",
       "    <tr>\n",
       "      <th>3</th>\n",
       "      <td>4</td>\n",
       "      <td>Labour</td>\n",
       "      <td>24</td>\n",
       "      <td>4</td>\n",
       "      <td>2</td>\n",
       "      <td>2</td>\n",
       "      <td>1</td>\n",
       "      <td>4</td>\n",
       "      <td>0</td>\n",
       "      <td>female</td>\n",
       "    </tr>\n",
       "    <tr>\n",
       "      <th>4</th>\n",
       "      <td>5</td>\n",
       "      <td>Labour</td>\n",
       "      <td>41</td>\n",
       "      <td>2</td>\n",
       "      <td>2</td>\n",
       "      <td>1</td>\n",
       "      <td>1</td>\n",
       "      <td>6</td>\n",
       "      <td>2</td>\n",
       "      <td>male</td>\n",
       "    </tr>\n",
       "  </tbody>\n",
       "</table>\n",
       "</div>"
      ],
      "text/plain": [
       "   Unnamed: 0    vote  age  economic.cond.national  economic.cond.household  \\\n",
       "0           1  Labour   43                       3                        3   \n",
       "1           2  Labour   36                       4                        4   \n",
       "2           3  Labour   35                       4                        4   \n",
       "3           4  Labour   24                       4                        2   \n",
       "4           5  Labour   41                       2                        2   \n",
       "\n",
       "   Blair  Hague  Europe  political.knowledge  gender  \n",
       "0      4      1       2                    2  female  \n",
       "1      4      4       5                    2    male  \n",
       "2      5      2       3                    2    male  \n",
       "3      2      1       4                    0  female  \n",
       "4      1      1       6                    2    male  "
      ]
     },
     "execution_count": 3,
     "metadata": {},
     "output_type": "execute_result"
    }
   ],
   "source": [
    "df.head()"
   ]
  },
  {
   "cell_type": "code",
   "execution_count": 4,
   "metadata": {
    "scrolled": false
   },
   "outputs": [
    {
     "data": {
      "text/html": [
       "<div>\n",
       "<style scoped>\n",
       "    .dataframe tbody tr th:only-of-type {\n",
       "        vertical-align: middle;\n",
       "    }\n",
       "\n",
       "    .dataframe tbody tr th {\n",
       "        vertical-align: top;\n",
       "    }\n",
       "\n",
       "    .dataframe thead th {\n",
       "        text-align: right;\n",
       "    }\n",
       "</style>\n",
       "<table border=\"1\" class=\"dataframe\">\n",
       "  <thead>\n",
       "    <tr style=\"text-align: right;\">\n",
       "      <th></th>\n",
       "      <th>Unnamed: 0</th>\n",
       "      <th>vote</th>\n",
       "      <th>age</th>\n",
       "      <th>economic.cond.national</th>\n",
       "      <th>economic.cond.household</th>\n",
       "      <th>Blair</th>\n",
       "      <th>Hague</th>\n",
       "      <th>Europe</th>\n",
       "      <th>political.knowledge</th>\n",
       "      <th>gender</th>\n",
       "    </tr>\n",
       "  </thead>\n",
       "  <tbody>\n",
       "    <tr>\n",
       "      <th>1520</th>\n",
       "      <td>1521</td>\n",
       "      <td>Conservative</td>\n",
       "      <td>67</td>\n",
       "      <td>5</td>\n",
       "      <td>3</td>\n",
       "      <td>2</td>\n",
       "      <td>4</td>\n",
       "      <td>11</td>\n",
       "      <td>3</td>\n",
       "      <td>male</td>\n",
       "    </tr>\n",
       "    <tr>\n",
       "      <th>1521</th>\n",
       "      <td>1522</td>\n",
       "      <td>Conservative</td>\n",
       "      <td>73</td>\n",
       "      <td>2</td>\n",
       "      <td>2</td>\n",
       "      <td>4</td>\n",
       "      <td>4</td>\n",
       "      <td>8</td>\n",
       "      <td>2</td>\n",
       "      <td>male</td>\n",
       "    </tr>\n",
       "    <tr>\n",
       "      <th>1522</th>\n",
       "      <td>1523</td>\n",
       "      <td>Labour</td>\n",
       "      <td>37</td>\n",
       "      <td>3</td>\n",
       "      <td>3</td>\n",
       "      <td>5</td>\n",
       "      <td>4</td>\n",
       "      <td>2</td>\n",
       "      <td>2</td>\n",
       "      <td>male</td>\n",
       "    </tr>\n",
       "    <tr>\n",
       "      <th>1523</th>\n",
       "      <td>1524</td>\n",
       "      <td>Conservative</td>\n",
       "      <td>61</td>\n",
       "      <td>3</td>\n",
       "      <td>3</td>\n",
       "      <td>1</td>\n",
       "      <td>4</td>\n",
       "      <td>11</td>\n",
       "      <td>2</td>\n",
       "      <td>male</td>\n",
       "    </tr>\n",
       "    <tr>\n",
       "      <th>1524</th>\n",
       "      <td>1525</td>\n",
       "      <td>Conservative</td>\n",
       "      <td>74</td>\n",
       "      <td>2</td>\n",
       "      <td>3</td>\n",
       "      <td>2</td>\n",
       "      <td>4</td>\n",
       "      <td>11</td>\n",
       "      <td>0</td>\n",
       "      <td>female</td>\n",
       "    </tr>\n",
       "  </tbody>\n",
       "</table>\n",
       "</div>"
      ],
      "text/plain": [
       "      Unnamed: 0          vote  age  economic.cond.national  \\\n",
       "1520        1521  Conservative   67                       5   \n",
       "1521        1522  Conservative   73                       2   \n",
       "1522        1523        Labour   37                       3   \n",
       "1523        1524  Conservative   61                       3   \n",
       "1524        1525  Conservative   74                       2   \n",
       "\n",
       "      economic.cond.household  Blair  Hague  Europe  political.knowledge  \\\n",
       "1520                        3      2      4      11                    3   \n",
       "1521                        2      4      4       8                    2   \n",
       "1522                        3      5      4       2                    2   \n",
       "1523                        3      1      4      11                    2   \n",
       "1524                        3      2      4      11                    0   \n",
       "\n",
       "      gender  \n",
       "1520    male  \n",
       "1521    male  \n",
       "1522    male  \n",
       "1523    male  \n",
       "1524  female  "
      ]
     },
     "execution_count": 4,
     "metadata": {},
     "output_type": "execute_result"
    }
   ],
   "source": [
    "df.tail()"
   ]
  },
  {
   "cell_type": "code",
   "execution_count": 5,
   "metadata": {},
   "outputs": [
    {
     "data": {
      "text/html": [
       "<div>\n",
       "<style scoped>\n",
       "    .dataframe tbody tr th:only-of-type {\n",
       "        vertical-align: middle;\n",
       "    }\n",
       "\n",
       "    .dataframe tbody tr th {\n",
       "        vertical-align: top;\n",
       "    }\n",
       "\n",
       "    .dataframe thead th {\n",
       "        text-align: right;\n",
       "    }\n",
       "</style>\n",
       "<table border=\"1\" class=\"dataframe\">\n",
       "  <thead>\n",
       "    <tr style=\"text-align: right;\">\n",
       "      <th></th>\n",
       "      <th>Unnamed: 0</th>\n",
       "      <th>vote</th>\n",
       "      <th>age</th>\n",
       "      <th>economic.cond.national</th>\n",
       "      <th>economic.cond.household</th>\n",
       "      <th>Blair</th>\n",
       "      <th>Hague</th>\n",
       "      <th>Europe</th>\n",
       "      <th>political.knowledge</th>\n",
       "      <th>gender</th>\n",
       "    </tr>\n",
       "  </thead>\n",
       "  <tbody>\n",
       "    <tr>\n",
       "      <th>count</th>\n",
       "      <td>1525.000000</td>\n",
       "      <td>1525</td>\n",
       "      <td>1525.000000</td>\n",
       "      <td>1525.000000</td>\n",
       "      <td>1525.000000</td>\n",
       "      <td>1525.000000</td>\n",
       "      <td>1525.000000</td>\n",
       "      <td>1525.000000</td>\n",
       "      <td>1525.000000</td>\n",
       "      <td>1525</td>\n",
       "    </tr>\n",
       "    <tr>\n",
       "      <th>unique</th>\n",
       "      <td>NaN</td>\n",
       "      <td>2</td>\n",
       "      <td>NaN</td>\n",
       "      <td>NaN</td>\n",
       "      <td>NaN</td>\n",
       "      <td>NaN</td>\n",
       "      <td>NaN</td>\n",
       "      <td>NaN</td>\n",
       "      <td>NaN</td>\n",
       "      <td>2</td>\n",
       "    </tr>\n",
       "    <tr>\n",
       "      <th>top</th>\n",
       "      <td>NaN</td>\n",
       "      <td>Labour</td>\n",
       "      <td>NaN</td>\n",
       "      <td>NaN</td>\n",
       "      <td>NaN</td>\n",
       "      <td>NaN</td>\n",
       "      <td>NaN</td>\n",
       "      <td>NaN</td>\n",
       "      <td>NaN</td>\n",
       "      <td>female</td>\n",
       "    </tr>\n",
       "    <tr>\n",
       "      <th>freq</th>\n",
       "      <td>NaN</td>\n",
       "      <td>1063</td>\n",
       "      <td>NaN</td>\n",
       "      <td>NaN</td>\n",
       "      <td>NaN</td>\n",
       "      <td>NaN</td>\n",
       "      <td>NaN</td>\n",
       "      <td>NaN</td>\n",
       "      <td>NaN</td>\n",
       "      <td>812</td>\n",
       "    </tr>\n",
       "    <tr>\n",
       "      <th>mean</th>\n",
       "      <td>763.000000</td>\n",
       "      <td>NaN</td>\n",
       "      <td>54.182295</td>\n",
       "      <td>3.245902</td>\n",
       "      <td>3.140328</td>\n",
       "      <td>3.334426</td>\n",
       "      <td>2.746885</td>\n",
       "      <td>6.728525</td>\n",
       "      <td>1.542295</td>\n",
       "      <td>NaN</td>\n",
       "    </tr>\n",
       "    <tr>\n",
       "      <th>std</th>\n",
       "      <td>440.373894</td>\n",
       "      <td>NaN</td>\n",
       "      <td>15.711209</td>\n",
       "      <td>0.880969</td>\n",
       "      <td>0.929951</td>\n",
       "      <td>1.174824</td>\n",
       "      <td>1.230703</td>\n",
       "      <td>3.297538</td>\n",
       "      <td>1.083315</td>\n",
       "      <td>NaN</td>\n",
       "    </tr>\n",
       "    <tr>\n",
       "      <th>min</th>\n",
       "      <td>1.000000</td>\n",
       "      <td>NaN</td>\n",
       "      <td>24.000000</td>\n",
       "      <td>1.000000</td>\n",
       "      <td>1.000000</td>\n",
       "      <td>1.000000</td>\n",
       "      <td>1.000000</td>\n",
       "      <td>1.000000</td>\n",
       "      <td>0.000000</td>\n",
       "      <td>NaN</td>\n",
       "    </tr>\n",
       "    <tr>\n",
       "      <th>25%</th>\n",
       "      <td>382.000000</td>\n",
       "      <td>NaN</td>\n",
       "      <td>41.000000</td>\n",
       "      <td>3.000000</td>\n",
       "      <td>3.000000</td>\n",
       "      <td>2.000000</td>\n",
       "      <td>2.000000</td>\n",
       "      <td>4.000000</td>\n",
       "      <td>0.000000</td>\n",
       "      <td>NaN</td>\n",
       "    </tr>\n",
       "    <tr>\n",
       "      <th>50%</th>\n",
       "      <td>763.000000</td>\n",
       "      <td>NaN</td>\n",
       "      <td>53.000000</td>\n",
       "      <td>3.000000</td>\n",
       "      <td>3.000000</td>\n",
       "      <td>4.000000</td>\n",
       "      <td>2.000000</td>\n",
       "      <td>6.000000</td>\n",
       "      <td>2.000000</td>\n",
       "      <td>NaN</td>\n",
       "    </tr>\n",
       "    <tr>\n",
       "      <th>75%</th>\n",
       "      <td>1144.000000</td>\n",
       "      <td>NaN</td>\n",
       "      <td>67.000000</td>\n",
       "      <td>4.000000</td>\n",
       "      <td>4.000000</td>\n",
       "      <td>4.000000</td>\n",
       "      <td>4.000000</td>\n",
       "      <td>10.000000</td>\n",
       "      <td>2.000000</td>\n",
       "      <td>NaN</td>\n",
       "    </tr>\n",
       "    <tr>\n",
       "      <th>max</th>\n",
       "      <td>1525.000000</td>\n",
       "      <td>NaN</td>\n",
       "      <td>93.000000</td>\n",
       "      <td>5.000000</td>\n",
       "      <td>5.000000</td>\n",
       "      <td>5.000000</td>\n",
       "      <td>5.000000</td>\n",
       "      <td>11.000000</td>\n",
       "      <td>3.000000</td>\n",
       "      <td>NaN</td>\n",
       "    </tr>\n",
       "  </tbody>\n",
       "</table>\n",
       "</div>"
      ],
      "text/plain": [
       "         Unnamed: 0    vote          age  economic.cond.national  \\\n",
       "count   1525.000000    1525  1525.000000             1525.000000   \n",
       "unique          NaN       2          NaN                     NaN   \n",
       "top             NaN  Labour          NaN                     NaN   \n",
       "freq            NaN    1063          NaN                     NaN   \n",
       "mean     763.000000     NaN    54.182295                3.245902   \n",
       "std      440.373894     NaN    15.711209                0.880969   \n",
       "min        1.000000     NaN    24.000000                1.000000   \n",
       "25%      382.000000     NaN    41.000000                3.000000   \n",
       "50%      763.000000     NaN    53.000000                3.000000   \n",
       "75%     1144.000000     NaN    67.000000                4.000000   \n",
       "max     1525.000000     NaN    93.000000                5.000000   \n",
       "\n",
       "        economic.cond.household        Blair        Hague       Europe  \\\n",
       "count               1525.000000  1525.000000  1525.000000  1525.000000   \n",
       "unique                      NaN          NaN          NaN          NaN   \n",
       "top                         NaN          NaN          NaN          NaN   \n",
       "freq                        NaN          NaN          NaN          NaN   \n",
       "mean                   3.140328     3.334426     2.746885     6.728525   \n",
       "std                    0.929951     1.174824     1.230703     3.297538   \n",
       "min                    1.000000     1.000000     1.000000     1.000000   \n",
       "25%                    3.000000     2.000000     2.000000     4.000000   \n",
       "50%                    3.000000     4.000000     2.000000     6.000000   \n",
       "75%                    4.000000     4.000000     4.000000    10.000000   \n",
       "max                    5.000000     5.000000     5.000000    11.000000   \n",
       "\n",
       "        political.knowledge  gender  \n",
       "count           1525.000000    1525  \n",
       "unique                  NaN       2  \n",
       "top                     NaN  female  \n",
       "freq                    NaN     812  \n",
       "mean               1.542295     NaN  \n",
       "std                1.083315     NaN  \n",
       "min                0.000000     NaN  \n",
       "25%                0.000000     NaN  \n",
       "50%                2.000000     NaN  \n",
       "75%                2.000000     NaN  \n",
       "max                3.000000     NaN  "
      ]
     },
     "execution_count": 5,
     "metadata": {},
     "output_type": "execute_result"
    }
   ],
   "source": [
    "df.describe(include='all')"
   ]
  },
  {
   "cell_type": "code",
   "execution_count": 6,
   "metadata": {
    "scrolled": true
   },
   "outputs": [
    {
     "data": {
      "text/plain": [
       "54.18229508196721"
      ]
     },
     "execution_count": 6,
     "metadata": {},
     "output_type": "execute_result"
    }
   ],
   "source": [
    "df['age'].mean()"
   ]
  },
  {
   "cell_type": "code",
   "execution_count": 7,
   "metadata": {
    "scrolled": true
   },
   "outputs": [
    {
     "data": {
      "text/plain": [
       "Labour          0.697049\n",
       "Conservative    0.302951\n",
       "Name: vote, dtype: float64"
      ]
     },
     "execution_count": 7,
     "metadata": {},
     "output_type": "execute_result"
    }
   ],
   "source": [
    "df.vote.value_counts(1)"
   ]
  },
  {
   "cell_type": "code",
   "execution_count": 8,
   "metadata": {},
   "outputs": [
    {
     "data": {
      "text/plain": [
       "female    0.532459\n",
       "male      0.467541\n",
       "Name: gender, dtype: float64"
      ]
     },
     "execution_count": 8,
     "metadata": {},
     "output_type": "execute_result"
    }
   ],
   "source": [
    "df.gender.value_counts(1)"
   ]
  },
  {
   "cell_type": "code",
   "execution_count": 9,
   "metadata": {},
   "outputs": [
    {
     "data": {
      "text/plain": [
       "0    4\n",
       "dtype: int64"
      ]
     },
     "execution_count": 9,
     "metadata": {},
     "output_type": "execute_result"
    }
   ],
   "source": [
    "df.Blair.mode()"
   ]
  },
  {
   "cell_type": "code",
   "execution_count": 10,
   "metadata": {},
   "outputs": [
    {
     "data": {
      "text/plain": [
       "0    2\n",
       "dtype: int64"
      ]
     },
     "execution_count": 10,
     "metadata": {},
     "output_type": "execute_result"
    }
   ],
   "source": [
    "df['Hague'].mode()"
   ]
  },
  {
   "cell_type": "code",
   "execution_count": 11,
   "metadata": {},
   "outputs": [
    {
     "data": {
      "text/plain": [
       "(1525, 10)"
      ]
     },
     "execution_count": 11,
     "metadata": {},
     "output_type": "execute_result"
    }
   ],
   "source": [
    "df.shape"
   ]
  },
  {
   "cell_type": "code",
   "execution_count": 12,
   "metadata": {
    "scrolled": false
   },
   "outputs": [
    {
     "data": {
      "text/plain": [
       "Unnamed: 0                 0\n",
       "vote                       0\n",
       "age                        0\n",
       "economic.cond.national     0\n",
       "economic.cond.household    0\n",
       "Blair                      0\n",
       "Hague                      0\n",
       "Europe                     0\n",
       "political.knowledge        0\n",
       "gender                     0\n",
       "dtype: int64"
      ]
     },
     "execution_count": 12,
     "metadata": {},
     "output_type": "execute_result"
    }
   ],
   "source": [
    "df.isnull().sum()"
   ]
  },
  {
   "cell_type": "code",
   "execution_count": 13,
   "metadata": {
    "scrolled": true
   },
   "outputs": [],
   "source": [
    "df.drop(['Unnamed: 0'],axis=1,inplace=True)  "
   ]
  },
  {
   "cell_type": "code",
   "execution_count": 14,
   "metadata": {},
   "outputs": [
    {
     "data": {
      "text/plain": [
       "Index(['vote', 'age', 'economic.cond.national', 'economic.cond.household',\n",
       "       'Blair', 'Hague', 'Europe', 'political.knowledge', 'gender'],\n",
       "      dtype='object')"
      ]
     },
     "execution_count": 14,
     "metadata": {},
     "output_type": "execute_result"
    }
   ],
   "source": [
    "df.columns"
   ]
  },
  {
   "cell_type": "code",
   "execution_count": 15,
   "metadata": {
    "scrolled": true
   },
   "outputs": [
    {
     "name": "stdout",
     "output_type": "stream",
     "text": [
      "<class 'pandas.core.frame.DataFrame'>\n",
      "RangeIndex: 1525 entries, 0 to 1524\n",
      "Data columns (total 9 columns):\n",
      " #   Column                   Non-Null Count  Dtype \n",
      "---  ------                   --------------  ----- \n",
      " 0   vote                     1525 non-null   object\n",
      " 1   age                      1525 non-null   int64 \n",
      " 2   economic.cond.national   1525 non-null   int64 \n",
      " 3   economic.cond.household  1525 non-null   int64 \n",
      " 4   Blair                    1525 non-null   int64 \n",
      " 5   Hague                    1525 non-null   int64 \n",
      " 6   Europe                   1525 non-null   int64 \n",
      " 7   political.knowledge      1525 non-null   int64 \n",
      " 8   gender                   1525 non-null   object\n",
      "dtypes: int64(7), object(2)\n",
      "memory usage: 107.4+ KB\n"
     ]
    }
   ],
   "source": [
    "df.info()"
   ]
  },
  {
   "cell_type": "code",
   "execution_count": 16,
   "metadata": {},
   "outputs": [
    {
     "name": "stdout",
     "output_type": "stream",
     "text": [
      "['Labour' 'Conservative']\n",
      "\n",
      "\n",
      "[43 36 35 24 41 47 57 77 39 70 66 59 51 79 37 38 53 44 60 56 61 55 62 76\n",
      " 27 52 48 72 42 54 50 46 33 58 64 32 71 28 34 68 67 88 40 78 65 74 82 49\n",
      " 84 81 45 69 31 63 89 83 29 92 73 75 26 90 25 80 30 86 85 87 93 91]\n",
      "\n",
      "\n",
      "[3 4 2 1 5]\n",
      "\n",
      "\n",
      "[3 4 2 1 5]\n",
      "\n",
      "\n",
      "[4 5 2 1 3]\n",
      "\n",
      "\n",
      "[1 4 2 5 3]\n",
      "\n",
      "\n",
      "[ 2  5  3  4  6 11  1  7  9 10  8]\n",
      "\n",
      "\n",
      "[2 0 3 1]\n",
      "\n",
      "\n",
      "['female' 'male']\n"
     ]
    }
   ],
   "source": [
    "print(df.vote.unique())\n",
    "print('\\n')\n",
    "print(df['age'].unique())\n",
    "print('\\n')\n",
    "print(df['economic.cond.national'].unique())\n",
    "print('\\n')\n",
    "print(df['economic.cond.household'].unique())\n",
    "print('\\n')\n",
    "print(df['Blair'].unique())\n",
    "print('\\n')\n",
    "print(df['Hague'].unique())\n",
    "print('\\n')\n",
    "print(df['Europe'].unique())\n",
    "print('\\n')\n",
    "print(df['political.knowledge'].unique())\n",
    "print('\\n')\n",
    "print(df['gender'].unique())"
   ]
  },
  {
   "cell_type": "code",
   "execution_count": 17,
   "metadata": {},
   "outputs": [
    {
     "name": "stdout",
     "output_type": "stream",
     "text": [
      "age\n",
      "37    42\n",
      "49    39\n",
      "35    39\n",
      "47    38\n",
      "46    37\n",
      "      ..\n",
      "87     3\n",
      "92     2\n",
      "91     1\n",
      "90     1\n",
      "93     1\n",
      "Name: age, Length: 70, dtype: int64\n",
      "\n",
      "\n",
      "economic.cond.national\n",
      "3    607\n",
      "4    542\n",
      "2    257\n",
      "5     82\n",
      "1     37\n",
      "Name: economic.cond.national, dtype: int64\n",
      "\n",
      "\n",
      "economic.cond.household\n",
      "3    648\n",
      "4    440\n",
      "2    280\n",
      "5     92\n",
      "1     65\n",
      "Name: economic.cond.household, dtype: int64\n",
      "\n",
      "\n",
      "Blair\n",
      "4    836\n",
      "2    438\n",
      "5    153\n",
      "1     97\n",
      "3      1\n",
      "Name: Blair, dtype: int64\n",
      "\n",
      "\n",
      "Hague\n",
      "2    624\n",
      "4    558\n",
      "1    233\n",
      "5     73\n",
      "3     37\n",
      "Name: Hague, dtype: int64\n",
      "\n",
      "\n",
      "Europe\n",
      "11    338\n",
      "6     209\n",
      "3     129\n",
      "4     127\n",
      "5     124\n",
      "8     112\n",
      "9     111\n",
      "1     109\n",
      "10    101\n",
      "7      86\n",
      "2      79\n",
      "Name: Europe, dtype: int64\n",
      "\n",
      "\n",
      "political.knowledge\n",
      "2    782\n",
      "0    455\n",
      "3    250\n",
      "1     38\n",
      "Name: political.knowledge, dtype: int64\n",
      "\n",
      "\n"
     ]
    }
   ],
   "source": [
    "for feature in df.columns: \n",
    "    if df[feature].dtype == 'int64': \n",
    "        print(feature)\n",
    "        print(df[feature].value_counts())\n",
    "        print('\\n')"
   ]
  },
  {
   "cell_type": "code",
   "execution_count": 18,
   "metadata": {},
   "outputs": [
    {
     "name": "stdout",
     "output_type": "stream",
     "text": [
      "vote\n",
      "Labour          1063\n",
      "Conservative     462\n",
      "Name: vote, dtype: int64\n",
      "\n",
      "\n",
      "gender\n",
      "female    812\n",
      "male      713\n",
      "Name: gender, dtype: int64\n",
      "\n",
      "\n"
     ]
    }
   ],
   "source": [
    "for feature in df.columns: \n",
    "    if df[feature].dtype == 'object': \n",
    "        print(feature)\n",
    "        print(df[feature].value_counts())\n",
    "        print('\\n')"
   ]
  },
  {
   "cell_type": "code",
   "execution_count": 19,
   "metadata": {
    "scrolled": true
   },
   "outputs": [
    {
     "name": "stdout",
     "output_type": "stream",
     "text": [
      "Number of duplicate rows = 8\n"
     ]
    },
    {
     "data": {
      "text/html": [
       "<div>\n",
       "<style scoped>\n",
       "    .dataframe tbody tr th:only-of-type {\n",
       "        vertical-align: middle;\n",
       "    }\n",
       "\n",
       "    .dataframe tbody tr th {\n",
       "        vertical-align: top;\n",
       "    }\n",
       "\n",
       "    .dataframe thead th {\n",
       "        text-align: right;\n",
       "    }\n",
       "</style>\n",
       "<table border=\"1\" class=\"dataframe\">\n",
       "  <thead>\n",
       "    <tr style=\"text-align: right;\">\n",
       "      <th></th>\n",
       "      <th>vote</th>\n",
       "      <th>age</th>\n",
       "      <th>economic.cond.national</th>\n",
       "      <th>economic.cond.household</th>\n",
       "      <th>Blair</th>\n",
       "      <th>Hague</th>\n",
       "      <th>Europe</th>\n",
       "      <th>political.knowledge</th>\n",
       "      <th>gender</th>\n",
       "    </tr>\n",
       "  </thead>\n",
       "  <tbody>\n",
       "    <tr>\n",
       "      <th>67</th>\n",
       "      <td>Labour</td>\n",
       "      <td>35</td>\n",
       "      <td>4</td>\n",
       "      <td>4</td>\n",
       "      <td>5</td>\n",
       "      <td>2</td>\n",
       "      <td>3</td>\n",
       "      <td>2</td>\n",
       "      <td>male</td>\n",
       "    </tr>\n",
       "    <tr>\n",
       "      <th>626</th>\n",
       "      <td>Labour</td>\n",
       "      <td>39</td>\n",
       "      <td>3</td>\n",
       "      <td>4</td>\n",
       "      <td>4</td>\n",
       "      <td>2</td>\n",
       "      <td>5</td>\n",
       "      <td>2</td>\n",
       "      <td>male</td>\n",
       "    </tr>\n",
       "    <tr>\n",
       "      <th>870</th>\n",
       "      <td>Labour</td>\n",
       "      <td>38</td>\n",
       "      <td>2</td>\n",
       "      <td>4</td>\n",
       "      <td>2</td>\n",
       "      <td>2</td>\n",
       "      <td>4</td>\n",
       "      <td>3</td>\n",
       "      <td>male</td>\n",
       "    </tr>\n",
       "    <tr>\n",
       "      <th>983</th>\n",
       "      <td>Conservative</td>\n",
       "      <td>74</td>\n",
       "      <td>4</td>\n",
       "      <td>3</td>\n",
       "      <td>2</td>\n",
       "      <td>4</td>\n",
       "      <td>8</td>\n",
       "      <td>2</td>\n",
       "      <td>female</td>\n",
       "    </tr>\n",
       "    <tr>\n",
       "      <th>1154</th>\n",
       "      <td>Conservative</td>\n",
       "      <td>53</td>\n",
       "      <td>3</td>\n",
       "      <td>4</td>\n",
       "      <td>2</td>\n",
       "      <td>2</td>\n",
       "      <td>6</td>\n",
       "      <td>0</td>\n",
       "      <td>female</td>\n",
       "    </tr>\n",
       "  </tbody>\n",
       "</table>\n",
       "</div>"
      ],
      "text/plain": [
       "              vote  age  economic.cond.national  economic.cond.household  \\\n",
       "67          Labour   35                       4                        4   \n",
       "626         Labour   39                       3                        4   \n",
       "870         Labour   38                       2                        4   \n",
       "983   Conservative   74                       4                        3   \n",
       "1154  Conservative   53                       3                        4   \n",
       "\n",
       "      Blair  Hague  Europe  political.knowledge  gender  \n",
       "67        5      2       3                    2    male  \n",
       "626       4      2       5                    2    male  \n",
       "870       2      2       4                    3    male  \n",
       "983       2      4       8                    2  female  \n",
       "1154      2      2       6                    0  female  "
      ]
     },
     "execution_count": 19,
     "metadata": {},
     "output_type": "execute_result"
    }
   ],
   "source": [
    "dups = df.duplicated()\n",
    "print('Number of duplicate rows = %d' % (dups.sum()))\n",
    "df[dups].head() "
   ]
  },
  {
   "cell_type": "code",
   "execution_count": 20,
   "metadata": {},
   "outputs": [
    {
     "name": "stdout",
     "output_type": "stream",
     "text": [
      "Before (1525, 9)\n",
      "After (1517, 9)\n",
      "Number of duplicate rows = 0\n"
     ]
    }
   ],
   "source": [
    "print('Before',df.shape)\n",
    "df.drop_duplicates(inplace=True) \n",
    "print('After',df.shape)\n",
    "dups = df.duplicated()\n",
    "print('Number of duplicate rows = %d' % (dups.sum()))"
   ]
  },
  {
   "cell_type": "code",
   "execution_count": 21,
   "metadata": {},
   "outputs": [
    {
     "data": {
      "text/plain": [
       "<AxesSubplot:>"
      ]
     },
     "execution_count": 21,
     "metadata": {},
     "output_type": "execute_result"
    },
    {
     "data": {
      "image/png": "[encoded data removed]",
      "text/plain": [
       "<Figure size 1440x720 with 1 Axes>"
      ]
     },
     "metadata": {
      "needs_background": "light"
     },
     "output_type": "display_data"
    }
   ],
   "source": [
    "plt.figure(figsize=(20,10))\n",
    "sns.boxplot(data=df) "
   ]
  },
  {
   "cell_type": "code",
   "execution_count": 22,
   "metadata": {},
   "outputs": [
    {
     "data": {
      "text/plain": [
       "<AxesSubplot:xlabel='economic.cond.national'>"
      ]
     },
     "execution_count": 22,
     "metadata": {},
     "output_type": "execute_result"
    },
    {
     "data": {
      "image/png": "[encoded data removed]",
      "text/plain": [
       "<Figure size 432x288 with 1 Axes>"
      ]
     },
     "metadata": {
      "needs_background": "light"
     },
     "output_type": "display_data"
    }
   ],
   "source": [
    "sns.boxplot(df['economic.cond.national']) "
   ]
  },
  {
   "cell_type": "code",
   "execution_count": 23,
   "metadata": {
    "scrolled": false
   },
   "outputs": [
    {
     "data": {
      "text/plain": [
       "<AxesSubplot:xlabel='economic.cond.household'>"
      ]
     },
     "execution_count": 23,
     "metadata": {},
     "output_type": "execute_result"
    },
    {
     "data": {
      "image/png": "[encoded data removed]",
      "text/plain": [
       "<Figure size 432x288 with 1 Axes>"
      ]
     },
     "metadata": {
      "needs_background": "light"
     },
     "output_type": "display_data"
    }
   ],
   "source": [
    "sns.boxplot(df['economic.cond.household'])"
   ]
  },
  {
   "cell_type": "code",
   "execution_count": 24,
   "metadata": {},
   "outputs": [
    {
     "data": {
      "text/plain": [
       "<AxesSubplot:xlabel='Blair', ylabel='count'>"
      ]
     },
     "execution_count": 24,
     "metadata": {},
     "output_type": "execute_result"
    },
    {
     "data": {
      "image/png": "[encoded data removed]",
      "text/plain": [
       "<Figure size 432x288 with 1 Axes>"
      ]
     },
     "metadata": {
      "needs_background": "light"
     },
     "output_type": "display_data"
    }
   ],
   "source": [
    "sns.countplot(df['Blair'])"
   ]
  },
  {
   "cell_type": "code",
   "execution_count": 25,
   "metadata": {},
   "outputs": [
    {
     "data": {
      "text/plain": [
       "<AxesSubplot:xlabel='Hague', ylabel='count'>"
      ]
     },
     "execution_count": 25,
     "metadata": {},
     "output_type": "execute_result"
    },
    {
     "data": {
      "image/png": "[encoded data removed]",
      "text/plain": [
       "<Figure size 432x288 with 1 Axes>"
      ]
     },
     "metadata": {
      "needs_background": "light"
     },
     "output_type": "display_data"
    }
   ],
   "source": [
    "sns.countplot(df['Hague'])"
   ]
  },
  {
   "cell_type": "code",
   "execution_count": 26,
   "metadata": {},
   "outputs": [
    {
     "data": {
      "text/plain": [
       "<AxesSubplot:xlabel='age', ylabel='count'>"
      ]
     },
     "execution_count": 26,
     "metadata": {},
     "output_type": "execute_result"
    },
    {
     "data": {
      "image/png": "[encoded data removed]",
      "text/plain": [
       "<Figure size 1440x360 with 1 Axes>"
      ]
     },
     "metadata": {
      "needs_background": "light"
     },
     "output_type": "display_data"
    }
   ],
   "source": [
    "plt.figure(figsize=(20,5))\n",
    "sns.countplot(df['age']) "
   ]
  },
  {
   "cell_type": "code",
   "execution_count": 27,
   "metadata": {
    "scrolled": true
   },
   "outputs": [
    {
     "data": {
      "text/plain": [
       "<AxesSubplot:xlabel='age', ylabel='count'>"
      ]
     },
     "execution_count": 27,
     "metadata": {},
     "output_type": "execute_result"
    },
    {
     "data": {
      "image/png": "[encoded data removed]",
      "text/plain": [
       "<Figure size 1440x360 with 1 Axes>"
      ]
     },
     "metadata": {
      "needs_background": "light"
     },
     "output_type": "display_data"
    }
   ],
   "source": [
    "plt.figure(figsize=(20,5))\n",
    "sns.countplot(df['age'],hue=df['gender']) "
   ]
  },
  {
   "cell_type": "code",
   "execution_count": 28,
   "metadata": {},
   "outputs": [
    {
     "data": {
      "text/plain": [
       "<AxesSubplot:xlabel='Blair', ylabel='age'>"
      ]
     },
     "execution_count": 28,
     "metadata": {},
     "output_type": "execute_result"
    },
    {
     "data": {
      "image/png": "[encoded data removed]",
      "text/plain": [
       "<Figure size 432x288 with 1 Axes>"
      ]
     },
     "metadata": {
      "needs_background": "light"
     },
     "output_type": "display_data"
    }
   ],
   "source": [
    "sns.barplot(df['Blair'],df['age'])"
   ]
  },
  {
   "cell_type": "code",
   "execution_count": 29,
   "metadata": {},
   "outputs": [
    {
     "data": {
      "text/plain": [
       "<AxesSubplot:xlabel='Hague', ylabel='age'>"
      ]
     },
     "execution_count": 29,
     "metadata": {},
     "output_type": "execute_result"
    },
    {
     "data": {
      "image/png": "[encoded data removed]",
      "text/plain": [
       "<Figure size 432x288 with 1 Axes>"
      ]
     },
     "metadata": {
      "needs_background": "light"
     },
     "output_type": "display_data"
    }
   ],
   "source": [
    "sns.barplot(df['Hague'],df['age'])"
   ]
  },
  {
   "cell_type": "code",
   "execution_count": 30,
   "metadata": {},
   "outputs": [
    {
     "data": {
      "text/plain": [
       "<AxesSubplot:xlabel='Blair', ylabel='age'>"
      ]
     },
     "execution_count": 30,
     "metadata": {},
     "output_type": "execute_result"
    },
    {
     "data": {
      "image/png": "[encoded data removed]",
      "text/plain": [
       "<Figure size 432x288 with 1 Axes>"
      ]
     },
     "metadata": {
      "needs_background": "light"
     },
     "output_type": "display_data"
    }
   ],
   "source": [
    "sns.barplot(x=\"Blair\", y=\"age\", hue=\"gender\", data=df) "
   ]
  },
  {
   "cell_type": "code",
   "execution_count": 31,
   "metadata": {},
   "outputs": [
    {
     "data": {
      "text/plain": [
       "<AxesSubplot:xlabel='Hague', ylabel='age'>"
      ]
     },
     "execution_count": 31,
     "metadata": {},
     "output_type": "execute_result"
    },
    {
     "data": {
      "image/png": "[encoded data removed]",
      "text/plain": [
       "<Figure size 432x288 with 1 Axes>"
      ]
     },
     "metadata": {
      "needs_background": "light"
     },
     "output_type": "display_data"
    }
   ],
   "source": [
    "sns.barplot(x=\"Hague\", y=\"age\", hue=\"gender\", data=df) "
   ]
  },
  {
   "cell_type": "code",
   "execution_count": 32,
   "metadata": {},
   "outputs": [
    {
     "data": {
      "text/plain": [
       "<AxesSubplot:xlabel='vote', ylabel='count'>"
      ]
     },
     "execution_count": 32,
     "metadata": {},
     "output_type": "execute_result"
    },
    {
     "data": {
      "image/png": "[encoded data removed]",
      "text/plain": [
       "<Figure size 432x288 with 1 Axes>"
      ]
     },
     "metadata": {
      "needs_background": "light"
     },
     "output_type": "display_data"
    }
   ],
   "source": [
    "sns.countplot(x=\"vote\", hue=\"gender\",data=df,palette=\"Set1\")"
   ]
  },
  {
   "cell_type": "code",
   "execution_count": 33,
   "metadata": {},
   "outputs": [
    {
     "data": {
      "text/plain": [
       "<AxesSubplot:xlabel='vote', ylabel='count'>"
      ]
     },
     "execution_count": 33,
     "metadata": {},
     "output_type": "execute_result"
    },
    {
     "data": {
      "image/png": "[encoded data removed]",
      "text/plain": [
       "<Figure size 720x720 with 1 Axes>"
      ]
     },
     "metadata": {
      "needs_background": "light"
     },
     "output_type": "display_data"
    }
   ],
   "source": [
    "plt.figure(figsize=(10,10)) \n",
    "sns.countplot(x=\"vote\", hue=\"Europe\",data=df,palette=\"Set1\")"
   ]
  },
  {
   "cell_type": "code",
   "execution_count": 34,
   "metadata": {},
   "outputs": [
    {
     "data": {
      "text/plain": [
       "<AxesSubplot:xlabel='Hague', ylabel='Europe'>"
      ]
     },
     "execution_count": 34,
     "metadata": {},
     "output_type": "execute_result"
    },
    {
     "data": {
      "image/png": "[encoded data removed]",
      "text/plain": [
       "<Figure size 432x288 with 1 Axes>"
      ]
     },
     "metadata": {
      "needs_background": "light"
     },
     "output_type": "display_data"
    }
   ],
   "source": [
    "sns.barplot(x=\"Hague\", y=\"Europe\", hue=\"gender\", data=df) "
   ]
  },
  {
   "cell_type": "code",
   "execution_count": 35,
   "metadata": {},
   "outputs": [
    {
     "data": {
      "text/plain": [
       "<AxesSubplot:xlabel='Blair', ylabel='Europe'>"
      ]
     },
     "execution_count": 35,
     "metadata": {},
     "output_type": "execute_result"
    },
    {
     "data": {
      "image/png": "[encoded data removed]",
      "text/plain": [
       "<Figure size 432x288 with 1 Axes>"
      ]
     },
     "metadata": {
      "needs_background": "light"
     },
     "output_type": "display_data"
    }
   ],
   "source": [
    "sns.barplot(x=\"Blair\", y=\"Europe\", hue=\"gender\", data=df) "
   ]
  },
  {
   "cell_type": "code",
   "execution_count": 36,
   "metadata": {},
   "outputs": [
    {
     "data": {
      "image/png": "[encoded data removed]",
      "text/plain": [
       "<Figure size 1109.5x720 with 2 Axes>"
      ]
     },
     "metadata": {
      "needs_background": "light"
     },
     "output_type": "display_data"
    }
   ],
   "source": [
    "sns.catplot(x=\"age\", hue=\"vote\", col=\"gender\",\n",
    "                data=df, kind=\"count\",\n",
    "                height=10, aspect=.7);"
   ]
  },
  {
   "cell_type": "code",
   "execution_count": 37,
   "metadata": {},
   "outputs": [
    {
     "data": {
      "text/plain": [
       "<AxesSubplot:>"
      ]
     },
     "execution_count": 37,
     "metadata": {},
     "output_type": "execute_result"
    },
    {
     "data": {
      "image/png": "[encoded data removed]",
      "text/plain": [
       "<Figure size 432x288 with 2 Axes>"
      ]
     },
     "metadata": {
      "needs_background": "light"
     },
     "output_type": "display_data"
    }
   ],
   "source": [
    "sns.heatmap(df.corr(),annot=True,cmap='YlGnBu')  "
   ]
  },
  {
   "cell_type": "code",
   "execution_count": 38,
   "metadata": {
    "scrolled": true
   },
   "outputs": [
    {
     "data": {
      "text/plain": [
       "<seaborn.axisgrid.PairGrid at 0x1f47ab5ea88>"
      ]
     },
     "execution_count": 38,
     "metadata": {},
     "output_type": "execute_result"
    },
    {
     "data": {
      "image/png": "[encoded data removed]",
      "text/plain": [
       "<Figure size 1260x1260 with 56 Axes>"
      ]
     },
     "metadata": {
      "needs_background": "light"
     },
     "output_type": "display_data"
    }
   ],
   "source": [
    "sns.pairplot(df)"
   ]
  },
  {
   "cell_type": "code",
   "execution_count": 39,
   "metadata": {},
   "outputs": [],
   "source": [
    "df= pd.get_dummies(df, prefix=['Gender'], \n",
    "                        columns=['gender'],drop_first=True) "
   ]
  },
  {
   "cell_type": "code",
   "execution_count": 40,
   "metadata": {
    "scrolled": false
   },
   "outputs": [
    {
     "data": {
      "text/html": [
       "<div>\n",
       "<style scoped>\n",
       "    .dataframe tbody tr th:only-of-type {\n",
       "        vertical-align: middle;\n",
       "    }\n",
       "\n",
       "    .dataframe tbody tr th {\n",
       "        vertical-align: top;\n",
       "    }\n",
       "\n",
       "    .dataframe thead th {\n",
       "        text-align: right;\n",
       "    }\n",
       "</style>\n",
       "<table border=\"1\" class=\"dataframe\">\n",
       "  <thead>\n",
       "    <tr style=\"text-align: right;\">\n",
       "      <th></th>\n",
       "      <th>vote</th>\n",
       "      <th>age</th>\n",
       "      <th>economic.cond.national</th>\n",
       "      <th>economic.cond.household</th>\n",
       "      <th>Blair</th>\n",
       "      <th>Hague</th>\n",
       "      <th>Europe</th>\n",
       "      <th>political.knowledge</th>\n",
       "      <th>Gender_male</th>\n",
       "    </tr>\n",
       "  </thead>\n",
       "  <tbody>\n",
       "    <tr>\n",
       "      <th>0</th>\n",
       "      <td>Labour</td>\n",
       "      <td>43</td>\n",
       "      <td>3</td>\n",
       "      <td>3</td>\n",
       "      <td>4</td>\n",
       "      <td>1</td>\n",
       "      <td>2</td>\n",
       "      <td>2</td>\n",
       "      <td>0</td>\n",
       "    </tr>\n",
       "    <tr>\n",
       "      <th>1</th>\n",
       "      <td>Labour</td>\n",
       "      <td>36</td>\n",
       "      <td>4</td>\n",
       "      <td>4</td>\n",
       "      <td>4</td>\n",
       "      <td>4</td>\n",
       "      <td>5</td>\n",
       "      <td>2</td>\n",
       "      <td>1</td>\n",
       "    </tr>\n",
       "    <tr>\n",
       "      <th>2</th>\n",
       "      <td>Labour</td>\n",
       "      <td>35</td>\n",
       "      <td>4</td>\n",
       "      <td>4</td>\n",
       "      <td>5</td>\n",
       "      <td>2</td>\n",
       "      <td>3</td>\n",
       "      <td>2</td>\n",
       "      <td>1</td>\n",
       "    </tr>\n",
       "    <tr>\n",
       "      <th>3</th>\n",
       "      <td>Labour</td>\n",
       "      <td>24</td>\n",
       "      <td>4</td>\n",
       "      <td>2</td>\n",
       "      <td>2</td>\n",
       "      <td>1</td>\n",
       "      <td>4</td>\n",
       "      <td>0</td>\n",
       "      <td>0</td>\n",
       "    </tr>\n",
       "    <tr>\n",
       "      <th>4</th>\n",
       "      <td>Labour</td>\n",
       "      <td>41</td>\n",
       "      <td>2</td>\n",
       "      <td>2</td>\n",
       "      <td>1</td>\n",
       "      <td>1</td>\n",
       "      <td>6</td>\n",
       "      <td>2</td>\n",
       "      <td>1</td>\n",
       "    </tr>\n",
       "  </tbody>\n",
       "</table>\n",
       "</div>"
      ],
      "text/plain": [
       "     vote  age  economic.cond.national  economic.cond.household  Blair  Hague  \\\n",
       "0  Labour   43                       3                        3      4      1   \n",
       "1  Labour   36                       4                        4      4      4   \n",
       "2  Labour   35                       4                        4      5      2   \n",
       "3  Labour   24                       4                        2      2      1   \n",
       "4  Labour   41                       2                        2      1      1   \n",
       "\n",
       "   Europe  political.knowledge  Gender_male  \n",
       "0       2                    2            0  \n",
       "1       5                    2            1  \n",
       "2       3                    2            1  \n",
       "3       4                    0            0  \n",
       "4       6                    2            1  "
      ]
     },
     "execution_count": 40,
     "metadata": {},
     "output_type": "execute_result"
    }
   ],
   "source": [
    "df.head()"
   ]
  },
  {
   "cell_type": "code",
   "execution_count": 41,
   "metadata": {},
   "outputs": [],
   "source": [
    "df[\"economic.cond.household\"] = df[\"economic.cond.household\"].astype(str)\n",
    "df[\"Blair\"] = df[\"Blair\"].astype(str)\n",
    "df[\"Hague\"] = df[\"Hague\"].astype(str)\n",
    "df[\"Europe\"] = df[\"Europe\"].astype(str)\n",
    "df[\"political.knowledge\"] = df[\"political.knowledge\"].astype(str)\n",
    "df[\"economic.cond.national\"] = df[\"economic.cond.national\"].astype(str)\n",
    "\n",
    "\n"
   ]
  },
  {
   "cell_type": "code",
   "execution_count": 42,
   "metadata": {},
   "outputs": [
    {
     "data": {
      "text/plain": [
       "vote                       object\n",
       "age                         int64\n",
       "economic.cond.national     object\n",
       "economic.cond.household    object\n",
       "Blair                      object\n",
       "Hague                      object\n",
       "Europe                     object\n",
       "political.knowledge        object\n",
       "Gender_male                 uint8\n",
       "dtype: object"
      ]
     },
     "execution_count": 42,
     "metadata": {},
     "output_type": "execute_result"
    }
   ],
   "source": [
    "df.dtypes"
   ]
  },
  {
   "cell_type": "code",
   "execution_count": 43,
   "metadata": {
    "scrolled": false
   },
   "outputs": [
    {
     "name": "stdout",
     "output_type": "stream",
     "text": [
      "\n",
      "\n",
      "feature: vote\n",
      "[Labour, Conservative]\n",
      "Categories (2, object): [Conservative, Labour]\n",
      "[1 0]\n",
      "\n",
      "\n",
      "feature: economic.cond.national\n",
      "[3, 4, 2, 1, 5]\n",
      "Categories (5, object): [1, 2, 3, 4, 5]\n",
      "[2 3 1 0 4]\n",
      "\n",
      "\n",
      "feature: economic.cond.household\n",
      "[3, 4, 2, 1, 5]\n",
      "Categories (5, object): [1, 2, 3, 4, 5]\n",
      "[2 3 1 0 4]\n",
      "\n",
      "\n",
      "feature: Blair\n",
      "[4, 5, 2, 1, 3]\n",
      "Categories (5, object): [1, 2, 3, 4, 5]\n",
      "[3 4 1 0 2]\n",
      "\n",
      "\n",
      "feature: Hague\n",
      "[1, 4, 2, 5, 3]\n",
      "Categories (5, object): [1, 2, 3, 4, 5]\n",
      "[0 3 1 4 2]\n",
      "\n",
      "\n",
      "feature: Europe\n",
      "[2, 5, 3, 4, 6, ..., 1, 7, 9, 10, 8]\n",
      "Length: 11\n",
      "Categories (11, object): [1, 10, 11, 2, ..., 6, 7, 8, 9]\n",
      "[ 3  6  4  5  7  2  0  8 10  1  9]\n",
      "\n",
      "\n",
      "feature: political.knowledge\n",
      "[2, 0, 3, 1]\n",
      "Categories (4, object): [0, 1, 2, 3]\n",
      "[2 0 3 1]\n"
     ]
    }
   ],
   "source": [
    "for feature in df.columns: \n",
    "    if df[feature].dtype == 'object': \n",
    "        print('\\n')\n",
    "        print('feature:',feature)\n",
    "        print(pd.Categorical(df[feature].unique()))\n",
    "        print(pd.Categorical(df[feature].unique()).codes)\n",
    "        df[feature] = pd.Categorical(df[feature]).codes"
   ]
  },
  {
   "cell_type": "code",
   "execution_count": 44,
   "metadata": {
    "scrolled": true
   },
   "outputs": [
    {
     "name": "stdout",
     "output_type": "stream",
     "text": [
      "<class 'pandas.core.frame.DataFrame'>\n",
      "Int64Index: 1517 entries, 0 to 1524\n",
      "Data columns (total 9 columns):\n",
      " #   Column                   Non-Null Count  Dtype\n",
      "---  ------                   --------------  -----\n",
      " 0   vote                     1517 non-null   int8 \n",
      " 1   age                      1517 non-null   int64\n",
      " 2   economic.cond.national   1517 non-null   int8 \n",
      " 3   economic.cond.household  1517 non-null   int8 \n",
      " 4   Blair                    1517 non-null   int8 \n",
      " 5   Hague                    1517 non-null   int8 \n",
      " 6   Europe                   1517 non-null   int8 \n",
      " 7   political.knowledge      1517 non-null   int8 \n",
      " 8   Gender_male              1517 non-null   uint8\n",
      "dtypes: int64(1), int8(7), uint8(1)\n",
      "memory usage: 75.6 KB\n"
     ]
    }
   ],
   "source": [
    "df.info()"
   ]
  },
  {
   "cell_type": "code",
   "execution_count": 45,
   "metadata": {},
   "outputs": [],
   "source": [
    "df1 = df.copy()"
   ]
  },
  {
   "cell_type": "code",
   "execution_count": 46,
   "metadata": {},
   "outputs": [],
   "source": [
    "X = df.drop(['vote'], axis=1)\n",
    "y = df[['vote']]"
   ]
  },
  {
   "cell_type": "code",
   "execution_count": 47,
   "metadata": {},
   "outputs": [
    {
     "data": {
      "text/plain": [
       "MinMaxScaler()"
      ]
     },
     "execution_count": 47,
     "metadata": {},
     "output_type": "execute_result"
    }
   ],
   "source": [
    "from sklearn.preprocessing import MinMaxScaler\n",
    "minmax_scale = MinMaxScaler()\n",
    "minmax_scale"
   ]
  },
  {
   "cell_type": "code",
   "execution_count": 48,
   "metadata": {},
   "outputs": [],
   "source": [
    "X['age'] = minmax_scale.fit_transform(X[['age']]) "
   ]
  },
  {
   "cell_type": "code",
   "execution_count": 49,
   "metadata": {},
   "outputs": [],
   "source": [
    "from sklearn.model_selection import train_test_split\n",
    "X_train, X_test, y_train, y_test = train_test_split(X, y, test_size=0.30 , random_state=1)"
   ]
  },
  {
   "cell_type": "code",
   "execution_count": 50,
   "metadata": {
    "scrolled": true
   },
   "outputs": [
    {
     "name": "stdout",
     "output_type": "stream",
     "text": [
      "X_train (1061, 8)\n",
      "X_test (456, 8)\n",
      "y_train (1061, 1)\n",
      "y_test (456, 1)\n"
     ]
    }
   ],
   "source": [
    "print('X_train',X_train.shape)\n",
    "print('X_test',X_test.shape)\n",
    "print('y_train',y_train.shape)\n",
    "print('y_test',y_test.shape)"
   ]
  },
  {
   "cell_type": "markdown",
   "metadata": {},
   "source": [
    "## Logistic Regression"
   ]
  },
  {
   "cell_type": "code",
   "execution_count": 51,
   "metadata": {},
   "outputs": [
    {
     "name": "stdout",
     "output_type": "stream",
     "text": [
      "81.71536286522148\n",
      "[[182 125]\n",
      " [ 69 685]]\n",
      "              precision    recall  f1-score   support\n",
      "\n",
      "           0       0.73      0.59      0.65       307\n",
      "           1       0.85      0.91      0.88       754\n",
      "\n",
      "    accuracy                           0.82      1061\n",
      "   macro avg       0.79      0.75      0.76      1061\n",
      "weighted avg       0.81      0.82      0.81      1061\n",
      "\n"
     ]
    },
    {
     "data": {
      "image/png": "[encoded data removed]",
      "text/plain": [
       "<Figure size 432x288 with 2 Axes>"
      ]
     },
     "metadata": {
      "needs_background": "light"
     },
     "output_type": "display_data"
    }
   ],
   "source": [
    "from sklearn.linear_model import LogisticRegression\n",
    "model = LogisticRegression()\n",
    "model.fit(X_train, y_train)\n",
    "ytrain_predict = model.predict(X_train)\n",
    "model_score = model.score(X_train, y_train)*100\n",
    "print(model_score)\n",
    "print(metrics.confusion_matrix(y_train, ytrain_predict))\n",
    "print(metrics.classification_report(y_train, ytrain_predict))\n",
    "plot_confusion_matrix(model,X_train,y_train,values_format = '.2f');\n"
   ]
  },
  {
   "cell_type": "code",
   "execution_count": 52,
   "metadata": {},
   "outputs": [
    {
     "name": "stdout",
     "output_type": "stream",
     "text": [
      "79.16666666666666\n",
      "[[ 94  59]\n",
      " [ 36 267]]\n",
      "              precision    recall  f1-score   support\n",
      "\n",
      "           0       0.72      0.61      0.66       153\n",
      "           1       0.82      0.88      0.85       303\n",
      "\n",
      "    accuracy                           0.79       456\n",
      "   macro avg       0.77      0.75      0.76       456\n",
      "weighted avg       0.79      0.79      0.79       456\n",
      "\n"
     ]
    },
    {
     "data": {
      "image/png": "[encoded data removed]",
      "text/plain": [
       "<Figure size 432x288 with 2 Axes>"
      ]
     },
     "metadata": {
      "needs_background": "light"
     },
     "output_type": "display_data"
    }
   ],
   "source": [
    "from sklearn.linear_model import LogisticRegression\n",
    "model = LogisticRegression()\n",
    "model.fit(X_train, y_train)\n",
    "ytest_predict = model.predict(X_test)\n",
    "model_score = model.score(X_test, y_test)*100\n",
    "print(model_score)\n",
    "print(metrics.confusion_matrix(y_test, ytest_predict))\n",
    "print(metrics.classification_report(y_test, ytest_predict))\n",
    "plot_confusion_matrix(model,X_test,y_test,values_format = '.2f');\n"
   ]
  },
  {
   "cell_type": "code",
   "execution_count": 53,
   "metadata": {},
   "outputs": [
    {
     "data": {
      "text/plain": [
       "0.8171536286522149"
      ]
     },
     "execution_count": 53,
     "metadata": {},
     "output_type": "execute_result"
    }
   ],
   "source": [
    "logis_train_acc = model.score(X_train,y_train)\n",
    "logis_train_acc"
   ]
  },
  {
   "cell_type": "code",
   "execution_count": 54,
   "metadata": {},
   "outputs": [
    {
     "data": {
      "text/plain": [
       "0.7916666666666666"
      ]
     },
     "execution_count": 54,
     "metadata": {},
     "output_type": "execute_result"
    }
   ],
   "source": [
    "logis_test_acc = model.score(X_test,y_test)\n",
    "logis_test_acc"
   ]
  },
  {
   "cell_type": "code",
   "execution_count": 55,
   "metadata": {},
   "outputs": [
    {
     "data": {
      "text/html": [
       "<div>\n",
       "<style scoped>\n",
       "    .dataframe tbody tr th:only-of-type {\n",
       "        vertical-align: middle;\n",
       "    }\n",
       "\n",
       "    .dataframe tbody tr th {\n",
       "        vertical-align: top;\n",
       "    }\n",
       "\n",
       "    .dataframe thead th {\n",
       "        text-align: right;\n",
       "    }\n",
       "</style>\n",
       "<table border=\"1\" class=\"dataframe\">\n",
       "  <thead>\n",
       "    <tr style=\"text-align: right;\">\n",
       "      <th></th>\n",
       "      <th>0</th>\n",
       "      <th>1</th>\n",
       "    </tr>\n",
       "  </thead>\n",
       "  <tbody>\n",
       "    <tr>\n",
       "      <th>0</th>\n",
       "      <td>0.464776</td>\n",
       "      <td>0.535224</td>\n",
       "    </tr>\n",
       "    <tr>\n",
       "      <th>1</th>\n",
       "      <td>0.131576</td>\n",
       "      <td>0.868424</td>\n",
       "    </tr>\n",
       "    <tr>\n",
       "      <th>2</th>\n",
       "      <td>0.017736</td>\n",
       "      <td>0.982264</td>\n",
       "    </tr>\n",
       "    <tr>\n",
       "      <th>3</th>\n",
       "      <td>0.864590</td>\n",
       "      <td>0.135410</td>\n",
       "    </tr>\n",
       "    <tr>\n",
       "      <th>4</th>\n",
       "      <td>0.067764</td>\n",
       "      <td>0.932236</td>\n",
       "    </tr>\n",
       "  </tbody>\n",
       "</table>\n",
       "</div>"
      ],
      "text/plain": [
       "          0         1\n",
       "0  0.464776  0.535224\n",
       "1  0.131576  0.868424\n",
       "2  0.017736  0.982264\n",
       "3  0.864590  0.135410\n",
       "4  0.067764  0.932236"
      ]
     },
     "execution_count": 55,
     "metadata": {},
     "output_type": "execute_result"
    }
   ],
   "source": [
    "ytest_predict_prob=model.predict_proba(X_test)\n",
    "pd.DataFrame(ytest_predict_prob).head()"
   ]
  },
  {
   "cell_type": "code",
   "execution_count": 56,
   "metadata": {},
   "outputs": [
    {
     "name": "stdout",
     "output_type": "stream",
     "text": [
      "AUC: 0.876\n"
     ]
    },
    {
     "data": {
      "image/png": "[encoded data removed]",
      "text/plain": [
       "<Figure size 432x288 with 1 Axes>"
      ]
     },
     "metadata": {
      "needs_background": "light"
     },
     "output_type": "display_data"
    }
   ],
   "source": [
    "probs = model.predict_proba(X_train)\n",
    "probs = probs[:, 1]\n",
    "logis_train_auc = roc_auc_score(y_train, probs)\n",
    "print('AUC: %.3f' % logis_train_auc)\n",
    "logis_train_fpr, logis_train_tpr, train_thresholds = roc_curve(y_train, probs)\n",
    "plt.plot([0, 1], [0, 1], linestyle='--')\n",
    "plt.plot(logis_train_fpr, logis_train_tpr); "
   ]
  },
  {
   "cell_type": "code",
   "execution_count": 57,
   "metadata": {},
   "outputs": [
    {
     "name": "stdout",
     "output_type": "stream",
     "text": [
      "AUC: 0.863\n"
     ]
    },
    {
     "data": {
      "image/png": "[encoded data removed]",
      "text/plain": [
       "<Figure size 432x288 with 1 Axes>"
      ]
     },
     "metadata": {
      "needs_background": "light"
     },
     "output_type": "display_data"
    }
   ],
   "source": [
    "probs = model.predict_proba(X_test)\n",
    "probs = probs[:, 1]\n",
    "logis_test_auc = roc_auc_score(y_test, probs)\n",
    "print('AUC: %.3f' % logis_test_auc)\n",
    "logis_test_fpr, logis_test_tpr, test_thresholds = roc_curve(y_test, probs)\n",
    "plt.plot([0, 1], [0, 1], linestyle='--')\n",
    "plt.plot(logis_test_fpr, logis_test_tpr);"
   ]
  },
  {
   "cell_type": "code",
   "execution_count": 58,
   "metadata": {},
   "outputs": [],
   "source": [
    "df1 = df.copy()"
   ]
  },
  {
   "cell_type": "code",
   "execution_count": 59,
   "metadata": {},
   "outputs": [
    {
     "name": "stdout",
     "output_type": "stream",
     "text": [
      "logis_train_precision 0.85\n",
      "logis_train_recall 0.91\n",
      "logis_train_f1 0.88\n"
     ]
    }
   ],
   "source": [
    "logis_metrics=classification_report(y_train, ytrain_predict,output_dict=True)\n",
    "df1=pd.DataFrame(logis_metrics).transpose()\n",
    "logis_train_precision=round(df1.loc[\"1\"][0],2)\n",
    "logis_train_recall=round(df1.loc[\"1\"][1],2)\n",
    "logis_train_f1=round(df1.loc[\"1\"][2],2)\n",
    "print ('logis_train_precision',logis_train_precision)\n",
    "print ('logis_train_recall',logis_train_recall)\n",
    "print ('logis_train_f1',logis_train_f1)"
   ]
  },
  {
   "cell_type": "code",
   "execution_count": 60,
   "metadata": {},
   "outputs": [
    {
     "name": "stdout",
     "output_type": "stream",
     "text": [
      "logis_test_precision 0.82\n",
      "logis_test_recall 0.88\n",
      "logis_test_f1 0.85\n"
     ]
    }
   ],
   "source": [
    "logis_metrics=classification_report(y_test, ytest_predict,output_dict=True)\n",
    "df1=pd.DataFrame(logis_metrics).transpose()\n",
    "logis_test_precision=round(df1.loc[\"1\"][0],2)\n",
    "logis_test_recall=round(df1.loc[\"1\"][1],2)\n",
    "logis_test_f1=round(df1.loc[\"1\"][2],2)\n",
    "print ('logis_test_precision',logis_test_precision)\n",
    "print ('logis_test_recall',logis_test_recall)\n",
    "print ('logis_test_f1',logis_test_f1)"
   ]
  },
  {
   "cell_type": "code",
   "execution_count": 61,
   "metadata": {},
   "outputs": [
    {
     "name": "stdout",
     "output_type": "stream",
     "text": [
      "AUC for the Training Data: 0.876\n",
      "AUC for the Test Data: 0.863\n"
     ]
    },
    {
     "data": {
      "image/png": "[encoded data removed]",
      "text/plain": [
       "<Figure size 432x288 with 1 Axes>"
      ]
     },
     "metadata": {
      "needs_background": "light"
     },
     "output_type": "display_data"
    }
   ],
   "source": [
    "probs = model.predict_proba(X_train)\n",
    "probs1 = model.predict_proba(X_test)\n",
    "logis_train_auc = roc_auc_score(y_train,probs[:,1])\n",
    "print('AUC for the Training Data: %.3f' % logis_train_auc)\n",
    "\n",
    "logis_train_fpr,logis_train_tpr,thresholds = roc_curve(y_train, probs[:,1]) \n",
    "plt.plot([0, 1], [0, 1], linestyle='--')\n",
    "\n",
    "plt.plot(logis_train_fpr, logis_train_tpr, marker='.',label = 'Training Data')\n",
    "\n",
    "logis_test_auc = roc_auc_score(y_test,probs1[:,1])\n",
    "print('AUC for the Test Data: %.3f' % logis_test_auc)\n",
    "\n",
    "logis_test_fpr, logis_test_tpr, thresholds = roc_curve(y_test, probs1[:,1])\n",
    "plt.plot([0, 1], [0, 1], linestyle='--')\n",
    "# plot the roc curve for the model\n",
    "plt.plot(logis_test_fpr, logis_test_tpr, marker='.',label='Test Data')\n",
    "# show the plot\n",
    "plt.legend(loc='best')\n",
    "plt.show()"
   ]
  },
  {
   "cell_type": "markdown",
   "metadata": {},
   "source": [
    "### LDA"
   ]
  },
  {
   "cell_type": "code",
   "execution_count": 62,
   "metadata": {},
   "outputs": [],
   "source": [
    "clf = LinearDiscriminantAnalysis()\n",
    "model=clf.fit(X_train,y_train)"
   ]
  },
  {
   "cell_type": "code",
   "execution_count": 63,
   "metadata": {},
   "outputs": [],
   "source": [
    "ytrain_predict = model.predict(X_train)\n",
    "ytest_predict = model.predict(X_test)"
   ]
  },
  {
   "cell_type": "code",
   "execution_count": 64,
   "metadata": {},
   "outputs": [
    {
     "data": {
      "text/plain": [
       "0.819038642789821"
      ]
     },
     "execution_count": 64,
     "metadata": {},
     "output_type": "execute_result"
    }
   ],
   "source": [
    "lda_train_acc = model.score(X_train,y_train)\n",
    "lda_train_acc"
   ]
  },
  {
   "cell_type": "code",
   "execution_count": 65,
   "metadata": {},
   "outputs": [
    {
     "data": {
      "text/plain": [
       "0.8004385964912281"
      ]
     },
     "execution_count": 65,
     "metadata": {},
     "output_type": "execute_result"
    }
   ],
   "source": [
    "lda_test_acc = model.score(X_test,y_test)\n",
    "lda_test_acc"
   ]
  },
  {
   "cell_type": "code",
   "execution_count": 66,
   "metadata": {},
   "outputs": [
    {
     "data": {
      "text/plain": [
       "array([[191, 116],\n",
       "       [ 76, 678]], dtype=int64)"
      ]
     },
     "execution_count": 66,
     "metadata": {},
     "output_type": "execute_result"
    }
   ],
   "source": [
    "confusion_matrix(y_train, ytrain_predict)"
   ]
  },
  {
   "cell_type": "code",
   "execution_count": 67,
   "metadata": {},
   "outputs": [
    {
     "name": "stdout",
     "output_type": "stream",
     "text": [
      "              precision    recall  f1-score   support\n",
      "\n",
      "           0       0.72      0.62      0.67       307\n",
      "           1       0.85      0.90      0.88       754\n",
      "\n",
      "    accuracy                           0.82      1061\n",
      "   macro avg       0.78      0.76      0.77      1061\n",
      "weighted avg       0.81      0.82      0.82      1061\n",
      " \n",
      "\n"
     ]
    },
    {
     "data": {
      "image/png": "[encoded data removed]",
      "text/plain": [
       "<Figure size 432x288 with 2 Axes>"
      ]
     },
     "metadata": {
      "needs_background": "light"
     },
     "output_type": "display_data"
    }
   ],
   "source": [
    "plot_confusion_matrix(model,X_train,y_train,values_format = '.2f')\n",
    "print(classification_report(y_train, ytrain_predict),'\\n');"
   ]
  },
  {
   "cell_type": "code",
   "execution_count": 68,
   "metadata": {},
   "outputs": [
    {
     "data": {
      "text/plain": [
       "array([[ 98,  55],\n",
       "       [ 36, 267]], dtype=int64)"
      ]
     },
     "execution_count": 68,
     "metadata": {},
     "output_type": "execute_result"
    }
   ],
   "source": [
    "confusion_matrix(y_test, ytest_predict)"
   ]
  },
  {
   "cell_type": "code",
   "execution_count": 69,
   "metadata": {},
   "outputs": [
    {
     "name": "stdout",
     "output_type": "stream",
     "text": [
      "              precision    recall  f1-score   support\n",
      "\n",
      "           0       0.73      0.64      0.68       153\n",
      "           1       0.83      0.88      0.85       303\n",
      "\n",
      "    accuracy                           0.80       456\n",
      "   macro avg       0.78      0.76      0.77       456\n",
      "weighted avg       0.80      0.80      0.80       456\n",
      " \n",
      "\n"
     ]
    },
    {
     "data": {
      "image/png": "[encoded data removed]",
      "text/plain": [
       "<Figure size 432x288 with 2 Axes>"
      ]
     },
     "metadata": {
      "needs_background": "light"
     },
     "output_type": "display_data"
    }
   ],
   "source": [
    "plot_confusion_matrix(model,X_test,y_test,values_format = '.2f')\n",
    "print(classification_report(y_test, ytest_predict),'\\n');"
   ]
  },
  {
   "cell_type": "code",
   "execution_count": 70,
   "metadata": {},
   "outputs": [
    {
     "data": {
      "image/png": "[encoded data removed]",
      "text/plain": [
       "<Figure size 432x288 with 4 Axes>"
      ]
     },
     "metadata": {
      "needs_background": "light"
     },
     "output_type": "display_data"
    }
   ],
   "source": [
    "f,a =  plt.subplots(1,2,sharex=True,sharey=True,squeeze=False)\n",
    "\n",
    "plot_0 = sns.heatmap((metrics.confusion_matrix(y_train,ytrain_predict)),annot=True,fmt='.5g',cmap='YlGnBu',ax=a[0][0]);\n",
    "a[0][0].set_title('Training Data')\n",
    "\n",
    "plot_1 = sns.heatmap((metrics.confusion_matrix(y_test,ytest_predict)),annot=True,fmt='.5g',cmap='YlGnBu',ax=a[0][1]);\n",
    "a[0][1].set_title('Test Data');"
   ]
  },
  {
   "cell_type": "code",
   "execution_count": 71,
   "metadata": {},
   "outputs": [],
   "source": [
    "ytrain_prob = model.predict_proba(X_train)\n",
    "ytest_prob = model.predict_proba(X_test)"
   ]
  },
  {
   "cell_type": "code",
   "execution_count": 72,
   "metadata": {},
   "outputs": [
    {
     "data": {
      "text/html": [
       "<div>\n",
       "<style scoped>\n",
       "    .dataframe tbody tr th:only-of-type {\n",
       "        vertical-align: middle;\n",
       "    }\n",
       "\n",
       "    .dataframe tbody tr th {\n",
       "        vertical-align: top;\n",
       "    }\n",
       "\n",
       "    .dataframe thead th {\n",
       "        text-align: right;\n",
       "    }\n",
       "</style>\n",
       "<table border=\"1\" class=\"dataframe\">\n",
       "  <thead>\n",
       "    <tr style=\"text-align: right;\">\n",
       "      <th></th>\n",
       "      <th>0</th>\n",
       "      <th>1</th>\n",
       "    </tr>\n",
       "  </thead>\n",
       "  <tbody>\n",
       "    <tr>\n",
       "      <th>0</th>\n",
       "      <td>0.486594</td>\n",
       "      <td>0.513406</td>\n",
       "    </tr>\n",
       "    <tr>\n",
       "      <th>1</th>\n",
       "      <td>0.100553</td>\n",
       "      <td>0.899447</td>\n",
       "    </tr>\n",
       "    <tr>\n",
       "      <th>2</th>\n",
       "      <td>0.016666</td>\n",
       "      <td>0.983334</td>\n",
       "    </tr>\n",
       "    <tr>\n",
       "      <th>3</th>\n",
       "      <td>0.879861</td>\n",
       "      <td>0.120139</td>\n",
       "    </tr>\n",
       "    <tr>\n",
       "      <th>4</th>\n",
       "      <td>0.052119</td>\n",
       "      <td>0.947881</td>\n",
       "    </tr>\n",
       "  </tbody>\n",
       "</table>\n",
       "</div>"
      ],
      "text/plain": [
       "          0         1\n",
       "0  0.486594  0.513406\n",
       "1  0.100553  0.899447\n",
       "2  0.016666  0.983334\n",
       "3  0.879861  0.120139\n",
       "4  0.052119  0.947881"
      ]
     },
     "execution_count": 72,
     "metadata": {},
     "output_type": "execute_result"
    }
   ],
   "source": [
    "pd.DataFrame(ytest_prob).head()"
   ]
  },
  {
   "cell_type": "code",
   "execution_count": 73,
   "metadata": {},
   "outputs": [
    {
     "name": "stdout",
     "output_type": "stream",
     "text": [
      "AUC for the Training Data: 0.875\n",
      "AUC for the Test Data: 0.868\n"
     ]
    },
    {
     "data": {
      "image/png": "[encoded data removed]",
      "text/plain": [
       "<Figure size 432x288 with 1 Axes>"
      ]
     },
     "metadata": {
      "needs_background": "light"
     },
     "output_type": "display_data"
    }
   ],
   "source": [
    "lda_train_auc = metrics.roc_auc_score(y_train,ytrain_prob[:,1])\n",
    "print('AUC for the Training Data: %.3f' % lda_train_auc)\n",
    "\n",
    "lda_train_fpr, lda_train_tpr, thresholds = metrics.roc_curve(y_train,ytrain_prob[:,1])\n",
    "plt.plot([0, 1], [0, 1], linestyle='--')\n",
    "\n",
    "plt.plot(lda_train_fpr, lda_train_tpr, marker='.',label = 'Training Data')\n",
    "\n",
    "lda_test_auc = metrics.roc_auc_score(y_test,ytest_prob[:,1])\n",
    "print('AUC for the Test Data: %.3f' % lda_test_auc)\n",
    "\n",
    "lda_test_fpr, lda_test_tpr, thresholds = metrics.roc_curve(y_test,ytest_prob[:,1])\n",
    "plt.plot([0, 1], [0, 1], linestyle='--')\n",
    "# plot the roc curve for the model\n",
    "plt.plot(lda_test_fpr, lda_test_tpr, marker='.',label='Test Data')\n",
    "# show the plot\n",
    "plt.legend(loc='best')\n",
    "plt.show()"
   ]
  },
  {
   "cell_type": "code",
   "execution_count": 74,
   "metadata": {},
   "outputs": [
    {
     "name": "stdout",
     "output_type": "stream",
     "text": [
      "lda_train_precision 0.85\n",
      "lda_train_recall 0.9\n",
      "lda_train_f1 0.88\n"
     ]
    }
   ],
   "source": [
    "lda_metrics=classification_report(y_train, ytrain_predict,output_dict=True)\n",
    "df1=pd.DataFrame(lda_metrics).transpose()\n",
    "lda_train_precision=round(df1.loc[\"1\"][0],2)\n",
    "lda_train_recall=round(df1.loc[\"1\"][1],2)\n",
    "lda_train_f1=round(df1.loc[\"1\"][2],2)\n",
    "print ('lda_train_precision',lda_train_precision)\n",
    "print ('lda_train_recall',lda_train_recall)\n",
    "print ('lda_train_f1',lda_train_f1)"
   ]
  },
  {
   "cell_type": "code",
   "execution_count": 75,
   "metadata": {},
   "outputs": [
    {
     "name": "stdout",
     "output_type": "stream",
     "text": [
      "lda_test_precision 0.83\n",
      "lda_test_recall 0.88\n",
      "lda_test_f1 0.85\n"
     ]
    }
   ],
   "source": [
    "lda_metrics=classification_report(y_test, ytest_predict,output_dict=True)\n",
    "df1=pd.DataFrame(lda_metrics).transpose()\n",
    "lda_test_precision=round(df1.loc[\"1\"][0],2)\n",
    "lda_test_recall=round(df1.loc[\"1\"][1],2)\n",
    "lda_test_f1=round(df1.loc[\"1\"][2],2)\n",
    "print ('lda_test_precision',lda_test_precision)\n",
    "print ('lda_test_recall',lda_test_recall)\n",
    "print ('lda_test_f1',lda_test_f1)"
   ]
  },
  {
   "cell_type": "code",
   "execution_count": 76,
   "metadata": {},
   "outputs": [
    {
     "data": {
      "text/plain": [
       "<matplotlib.legend.Legend at 0x1f47f841fc8>"
      ]
     },
     "execution_count": 76,
     "metadata": {},
     "output_type": "execute_result"
    },
    {
     "data": {
      "image/png": "[encoded data removed]",
      "text/plain": [
       "<Figure size 432x288 with 1 Axes>"
      ]
     },
     "metadata": {
      "needs_background": "light"
     },
     "output_type": "display_data"
    }
   ],
   "source": [
    "plt.plot([0, 1], [0, 1], linestyle='--')\n",
    "plt.plot(logis_train_fpr, logis_train_tpr,color='red',label=\"LOGIS\")\n",
    "plt.plot(lda_train_fpr,lda_train_tpr,color='blue',label=\"LDA\")\n",
    "plt.xlabel('False Positive Rate')\n",
    "plt.ylabel('True Positive Rate')\n",
    "plt.title('ROC')\n",
    "plt.legend(bbox_to_anchor=(0., 1.02, 1., .102), loc='lower right')"
   ]
  },
  {
   "cell_type": "code",
   "execution_count": 77,
   "metadata": {
    "scrolled": true
   },
   "outputs": [
    {
     "data": {
      "text/plain": [
       "<matplotlib.legend.Legend at 0x1f47f953108>"
      ]
     },
     "execution_count": 77,
     "metadata": {},
     "output_type": "execute_result"
    },
    {
     "data": {
      "image/png": "[encoded data removed]",
      "text/plain": [
       "<Figure size 432x288 with 1 Axes>"
      ]
     },
     "metadata": {
      "needs_background": "light"
     },
     "output_type": "display_data"
    }
   ],
   "source": [
    "plt.plot([0, 1], [0, 1], linestyle='--')\n",
    "plt.plot(logis_test_fpr, logis_test_tpr,color='black',label=\"LOGIS\")\n",
    "plt.plot(lda_test_fpr,lda_test_tpr,color='yellow',label=\"LDA\")\n",
    "plt.xlabel('False Positive Rate')\n",
    "plt.ylabel('True Positive Rate')\n",
    "plt.title('ROC')\n",
    "plt.legend(bbox_to_anchor=(0., 1.02, 1., .102), loc='lower right')"
   ]
  },
  {
   "cell_type": "markdown",
   "metadata": {},
   "source": [
    "# KNN"
   ]
  },
  {
   "cell_type": "code",
   "execution_count": 78,
   "metadata": {},
   "outputs": [
    {
     "data": {
      "text/plain": [
       "KNeighborsClassifier()"
      ]
     },
     "execution_count": 78,
     "metadata": {},
     "output_type": "execute_result"
    }
   ],
   "source": [
    "from sklearn.neighbors import KNeighborsClassifier\n",
    "KNN_model = KNeighborsClassifier() \n",
    "KNN_model.fit(X_train,y_train)"
   ]
  },
  {
   "cell_type": "code",
   "execution_count": 79,
   "metadata": {},
   "outputs": [
    {
     "name": "stdout",
     "output_type": "stream",
     "text": [
      "0.8548539114043355\n",
      "[[224  83]\n",
      " [ 71 683]]\n",
      "              precision    recall  f1-score   support\n",
      "\n",
      "           0       0.76      0.73      0.74       307\n",
      "           1       0.89      0.91      0.90       754\n",
      "\n",
      "    accuracy                           0.85      1061\n",
      "   macro avg       0.83      0.82      0.82      1061\n",
      "weighted avg       0.85      0.85      0.85      1061\n",
      "\n"
     ]
    }
   ],
   "source": [
    "ytrain_predict = KNN_model.predict(X_train)\n",
    "model_score = KNN_model.score(X_train, y_train)\n",
    "print(model_score)\n",
    "print(metrics.confusion_matrix(y_train, ytrain_predict))\n",
    "print(metrics.classification_report(y_train, ytrain_predict))"
   ]
  },
  {
   "cell_type": "code",
   "execution_count": 80,
   "metadata": {
    "scrolled": false
   },
   "outputs": [
    {
     "name": "stdout",
     "output_type": "stream",
     "text": [
      "0.7982456140350878\n",
      "[[102  51]\n",
      " [ 41 262]]\n",
      "              precision    recall  f1-score   support\n",
      "\n",
      "           0       0.71      0.67      0.69       153\n",
      "           1       0.84      0.86      0.85       303\n",
      "\n",
      "    accuracy                           0.80       456\n",
      "   macro avg       0.78      0.77      0.77       456\n",
      "weighted avg       0.80      0.80      0.80       456\n",
      "\n"
     ]
    }
   ],
   "source": [
    "ytest_predict = KNN_model.predict(X_test)\n",
    "model_score = KNN_model.score(X_test, y_test)\n",
    "print(model_score)\n",
    "print(metrics.confusion_matrix(y_test, ytest_predict))\n",
    "print(metrics.classification_report(y_test, ytest_predict))"
   ]
  },
  {
   "cell_type": "code",
   "execution_count": 81,
   "metadata": {},
   "outputs": [
    {
     "data": {
      "text/plain": [
       "0.8548539114043355"
      ]
     },
     "execution_count": 81,
     "metadata": {},
     "output_type": "execute_result"
    }
   ],
   "source": [
    "KNN_train_acc = KNN_model.score(X_train, y_train)\n",
    "KNN_train_acc"
   ]
  },
  {
   "cell_type": "code",
   "execution_count": 82,
   "metadata": {},
   "outputs": [
    {
     "data": {
      "text/plain": [
       "0.7982456140350878"
      ]
     },
     "execution_count": 82,
     "metadata": {},
     "output_type": "execute_result"
    }
   ],
   "source": [
    "KNN_test_acc = KNN_model.score(X_test, y_test)\n",
    "KNN_test_acc"
   ]
  },
  {
   "cell_type": "code",
   "execution_count": 83,
   "metadata": {},
   "outputs": [],
   "source": [
    "ytrain_prob = KNN_model.predict_proba(X_train)\n",
    "ytest_prob = KNN_model.predict_proba(X_test)"
   ]
  },
  {
   "cell_type": "code",
   "execution_count": 84,
   "metadata": {},
   "outputs": [
    {
     "name": "stdout",
     "output_type": "stream",
     "text": [
      "AUC for the Training Data: 0.928\n",
      "AUC for the Test Data: 0.855\n"
     ]
    },
    {
     "data": {
      "image/png": "[encoded data removed]",
      "text/plain": [
       "<Figure size 432x288 with 1 Axes>"
      ]
     },
     "metadata": {
      "needs_background": "light"
     },
     "output_type": "display_data"
    }
   ],
   "source": [
    "KNN_train_auc = roc_auc_score(y_train,ytrain_prob[:,1])\n",
    "print('AUC for the Training Data: %.3f' % KNN_train_auc)\n",
    "\n",
    "KNN_train_fpr, KNN_train_tpr, thresholds = roc_curve(y_train,ytrain_prob[:,1])\n",
    "plt.plot([0, 1], [0, 1], linestyle='--')\n",
    "\n",
    "plt.plot(KNN_train_fpr, KNN_train_tpr, marker='.',label = 'Training Data')\n",
    "\n",
    "KNN_test_auc = roc_auc_score(y_test,ytest_prob[:,1])\n",
    "print('AUC for the Test Data: %.3f' % KNN_test_auc)\n",
    "\n",
    "KNN_test_fpr, KNN_test_tpr, thresholds = roc_curve(y_test,ytest_prob[:,1])\n",
    "plt.plot([0, 1], [0, 1], linestyle='--')\n",
    "plt.plot(KNN_test_fpr, KNN_test_tpr, marker='.',label='Test Data')\n",
    "plt.legend(loc='best')\n",
    "plt.show()"
   ]
  },
  {
   "cell_type": "code",
   "execution_count": 85,
   "metadata": {},
   "outputs": [
    {
     "name": "stdout",
     "output_type": "stream",
     "text": [
      "KNN_train_precision 0.89\n",
      "KNN_train_recall 0.91\n",
      "KNN_train_f1 0.9\n"
     ]
    }
   ],
   "source": [
    "KNN_metrics=classification_report(y_train, ytrain_predict,output_dict=True)\n",
    "df1=pd.DataFrame(KNN_metrics).transpose()\n",
    "KNN_train_precision=round(df1.loc[\"1\"][0],2)\n",
    "KNN_train_recall=round(df1.loc[\"1\"][1],2)\n",
    "KNN_train_f1=round(df1.loc[\"1\"][2],2)\n",
    "print ('KNN_train_precision',KNN_train_precision)\n",
    "print ('KNN_train_recall',KNN_train_recall)\n",
    "print ('KNN_train_f1',KNN_train_f1)"
   ]
  },
  {
   "cell_type": "code",
   "execution_count": 86,
   "metadata": {},
   "outputs": [
    {
     "name": "stdout",
     "output_type": "stream",
     "text": [
      "KNN_test_precision 0.84\n",
      "KNN_test_recall 0.86\n",
      "KNN_test_f1 0.85\n"
     ]
    }
   ],
   "source": [
    "KNN_metrics=classification_report(y_test, ytest_predict,output_dict=True)\n",
    "df1=pd.DataFrame(KNN_metrics).transpose()\n",
    "KNN_test_precision=round(df1.loc[\"1\"][0],2)\n",
    "KNN_test_recall=round(df1.loc[\"1\"][1],2)\n",
    "KNN_test_f1=round(df1.loc[\"1\"][2],2)\n",
    "print ('KNN_test_precision',KNN_test_precision)\n",
    "print ('KNN_test_recall',KNN_test_recall)\n",
    "print ('KNN_test_f1',KNN_test_f1)"
   ]
  },
  {
   "cell_type": "markdown",
   "metadata": {},
   "source": [
    "## NAIVEBASED "
   ]
  },
  {
   "cell_type": "code",
   "execution_count": 87,
   "metadata": {},
   "outputs": [],
   "source": [
    "from sklearn.naive_bayes import GaussianNB"
   ]
  },
  {
   "cell_type": "code",
   "execution_count": 88,
   "metadata": {},
   "outputs": [
    {
     "data": {
      "text/plain": [
       "GaussianNB()"
      ]
     },
     "execution_count": 88,
     "metadata": {},
     "output_type": "execute_result"
    }
   ],
   "source": [
    "NB_model = GaussianNB()\n",
    "NB_model.fit(X_train,y_train)"
   ]
  },
  {
   "cell_type": "code",
   "execution_count": 89,
   "metadata": {},
   "outputs": [
    {
     "name": "stdout",
     "output_type": "stream",
     "text": [
      "0.8162111215834119\n",
      "[[192 115]\n",
      " [ 80 674]]\n",
      "              precision    recall  f1-score   support\n",
      "\n",
      "           0       0.71      0.63      0.66       307\n",
      "           1       0.85      0.89      0.87       754\n",
      "\n",
      "    accuracy                           0.82      1061\n",
      "   macro avg       0.78      0.76      0.77      1061\n",
      "weighted avg       0.81      0.82      0.81      1061\n",
      "\n"
     ]
    }
   ],
   "source": [
    "ytrain_predict = NB_model.predict(X_train)\n",
    "model_score = NB_model.score(X_train, y_train)                      \n",
    "print(model_score)\n",
    "print(metrics.confusion_matrix(y_train, ytrain_predict))          \n",
    "print(metrics.classification_report(y_train, ytrain_predict))"
   ]
  },
  {
   "cell_type": "code",
   "execution_count": 90,
   "metadata": {
    "scrolled": true
   },
   "outputs": [
    {
     "name": "stdout",
     "output_type": "stream",
     "text": [
      "0.793859649122807\n",
      "[[103  50]\n",
      " [ 44 259]]\n",
      "              precision    recall  f1-score   support\n",
      "\n",
      "           0       0.70      0.67      0.69       153\n",
      "           1       0.84      0.85      0.85       303\n",
      "\n",
      "    accuracy                           0.79       456\n",
      "   macro avg       0.77      0.76      0.77       456\n",
      "weighted avg       0.79      0.79      0.79       456\n",
      "\n"
     ]
    }
   ],
   "source": [
    "ytest_predict = NB_model.predict(X_test)\n",
    "model_score = NB_model.score(X_test, y_test)                      \n",
    "print(model_score)\n",
    "print(metrics.confusion_matrix(y_test, ytest_predict))         \n",
    "print(metrics.classification_report(y_test, ytest_predict))"
   ]
  },
  {
   "cell_type": "code",
   "execution_count": 91,
   "metadata": {},
   "outputs": [
    {
     "data": {
      "text/plain": [
       "0.8162111215834119"
      ]
     },
     "execution_count": 91,
     "metadata": {},
     "output_type": "execute_result"
    }
   ],
   "source": [
    "NAIVE_train_acc = NB_model.score(X_train, y_train)\n",
    "NAIVE_train_acc"
   ]
  },
  {
   "cell_type": "code",
   "execution_count": 92,
   "metadata": {},
   "outputs": [
    {
     "data": {
      "text/plain": [
       "0.793859649122807"
      ]
     },
     "execution_count": 92,
     "metadata": {},
     "output_type": "execute_result"
    }
   ],
   "source": [
    "NAIVE_test_acc = NB_model.score(X_test, y_test)\n",
    "NAIVE_test_acc"
   ]
  },
  {
   "cell_type": "code",
   "execution_count": 93,
   "metadata": {},
   "outputs": [],
   "source": [
    "ytrain_prob = NB_model.predict_proba(X_train)\n",
    "ytest_prob = NB_model.predict_proba(X_test)"
   ]
  },
  {
   "cell_type": "code",
   "execution_count": 94,
   "metadata": {},
   "outputs": [
    {
     "name": "stdout",
     "output_type": "stream",
     "text": [
      "AUC for the Training Data: 0.875\n",
      "AUC for the Test Data: 0.857\n"
     ]
    },
    {
     "data": {
      "image/png": "[encoded data removed]",
      "text/plain": [
       "<Figure size 432x288 with 1 Axes>"
      ]
     },
     "metadata": {
      "needs_background": "light"
     },
     "output_type": "display_data"
    }
   ],
   "source": [
    "NAIVE_train_auc = roc_auc_score(y_train,ytrain_prob[:,1])\n",
    "print('AUC for the Training Data: %.3f' % NAIVE_train_auc)\n",
    "\n",
    "NAIVE_train_fpr, NAIVE_train_tpr, thresholds = roc_curve(y_train,ytrain_prob[:,1])\n",
    "plt.plot([0, 1], [0, 1], linestyle='--')\n",
    "\n",
    "plt.plot(NAIVE_train_fpr, NAIVE_train_tpr, marker='.',label = 'Training Data')\n",
    "\n",
    "NAIVE_test_auc = roc_auc_score(y_test,ytest_prob[:,1])\n",
    "print('AUC for the Test Data: %.3f' % NAIVE_test_auc)\n",
    "\n",
    "NAIVE_test_fpr, NAIVE_test_tpr, thresholds = roc_curve(y_test,ytest_prob[:,1])\n",
    "plt.plot([0, 1], [0, 1], linestyle='--')\n",
    "plt.plot(NAIVE_test_fpr, NAIVE_test_tpr, marker='.',label='Test Data')\n",
    "plt.legend(loc='best')\n",
    "plt.show()"
   ]
  },
  {
   "cell_type": "code",
   "execution_count": 95,
   "metadata": {},
   "outputs": [
    {
     "name": "stdout",
     "output_type": "stream",
     "text": [
      "NAIVE_train_precision 0.85\n",
      "NAIVE_train_recall 0.89\n",
      "NAIVE_train_f1 0.87\n"
     ]
    }
   ],
   "source": [
    "NAIVE_metrics=classification_report(y_train, ytrain_predict,output_dict=True)\n",
    "df1=pd.DataFrame(NAIVE_metrics).transpose()\n",
    "NAIVE_train_precision=round(df1.loc[\"1\"][0],2)\n",
    "NAIVE_train_recall=round(df1.loc[\"1\"][1],2)\n",
    "NAIVE_train_f1=round(df1.loc[\"1\"][2],2)\n",
    "print ('NAIVE_train_precision',NAIVE_train_precision)\n",
    "print ('NAIVE_train_recall',NAIVE_train_recall)\n",
    "print ('NAIVE_train_f1',NAIVE_train_f1)"
   ]
  },
  {
   "cell_type": "code",
   "execution_count": 96,
   "metadata": {},
   "outputs": [
    {
     "name": "stdout",
     "output_type": "stream",
     "text": [
      "NAIVE_test_precision 0.84\n",
      "NAIVE_test_recall 0.85\n",
      "NAIVE_test_f1 0.85\n"
     ]
    }
   ],
   "source": [
    "NAIVE_metrics=classification_report(y_test, ytest_predict,output_dict=True)\n",
    "df1=pd.DataFrame(NAIVE_metrics).transpose()\n",
    "NAIVE_test_precision=round(df1.loc[\"1\"][0],2)\n",
    "NAIVE_test_recall=round(df1.loc[\"1\"][1],2)\n",
    "NAIVE_test_f1=round(df1.loc[\"1\"][2],2)\n",
    "print ('NAIVE_test_precision',NAIVE_test_precision)\n",
    "print ('NAIVE_test_recall',NAIVE_test_recall)\n",
    "print ('NAIVE_test_f1',NAIVE_test_f1)"
   ]
  },
  {
   "cell_type": "markdown",
   "metadata": {},
   "source": [
    "### BAGGING RANDOM FOREST"
   ]
  },
  {
   "cell_type": "code",
   "execution_count": 97,
   "metadata": {},
   "outputs": [
    {
     "data": {
      "text/plain": [
       "RandomForestClassifier(random_state=1)"
      ]
     },
     "execution_count": 97,
     "metadata": {},
     "output_type": "execute_result"
    }
   ],
   "source": [
    "from sklearn.ensemble import RandomForestClassifier\n",
    "RF_model=RandomForestClassifier(n_estimators=100,random_state=1)\n",
    "RF_model.fit(X_train,y_train)"
   ]
  },
  {
   "cell_type": "code",
   "execution_count": 98,
   "metadata": {},
   "outputs": [],
   "source": [
    "param_grid = {\n",
    "    'max_depth': [2,5,7],\n",
    "    'max_features': [2,5,7],\n",
    "    'min_samples_leaf': [5,7],\n",
    "    'min_samples_split': [25,30],\n",
    "    'n_estimators': [250],\n",
    "}\n",
    "\n",
    "rfcl = RandomForestClassifier(random_state=1)\n",
    "\n",
    "grid_search = GridSearchCV(estimator = rfcl, param_grid = param_grid, cv = 5)"
   ]
  },
  {
   "cell_type": "code",
   "execution_count": 99,
   "metadata": {},
   "outputs": [
    {
     "data": {
      "text/plain": [
       "GridSearchCV(cv=5, estimator=RandomForestClassifier(random_state=1),\n",
       "             param_grid={'max_depth': [2, 5, 7], 'max_features': [2, 5, 7],\n",
       "                         'min_samples_leaf': [5, 7],\n",
       "                         'min_samples_split': [25, 30], 'n_estimators': [250]})"
      ]
     },
     "execution_count": 99,
     "metadata": {},
     "output_type": "execute_result"
    }
   ],
   "source": [
    "grid_search.fit(X_train, y_train)"
   ]
  },
  {
   "cell_type": "code",
   "execution_count": 100,
   "metadata": {},
   "outputs": [
    {
     "data": {
      "text/plain": [
       "{'max_depth': 7,\n",
       " 'max_features': 5,\n",
       " 'min_samples_leaf': 5,\n",
       " 'min_samples_split': 30,\n",
       " 'n_estimators': 250}"
      ]
     },
     "execution_count": 100,
     "metadata": {},
     "output_type": "execute_result"
    }
   ],
   "source": [
    "grid_search.best_params_"
   ]
  },
  {
   "cell_type": "code",
   "execution_count": 101,
   "metadata": {},
   "outputs": [],
   "source": [
    "best_grid = grid_search.best_estimator_"
   ]
  },
  {
   "cell_type": "code",
   "execution_count": 102,
   "metadata": {},
   "outputs": [
    {
     "data": {
      "text/plain": [
       "RandomForestClassifier(max_depth=7, max_features=5, min_samples_leaf=5,\n",
       "                       min_samples_split=30, n_estimators=250, random_state=1)"
      ]
     },
     "execution_count": 102,
     "metadata": {},
     "output_type": "execute_result"
    }
   ],
   "source": [
    "best_grid"
   ]
  },
  {
   "cell_type": "code",
   "execution_count": 103,
   "metadata": {},
   "outputs": [
    {
     "data": {
      "text/plain": [
       "BaggingClassifier(base_estimator=RandomForestClassifier(max_depth=7,\n",
       "                                                        max_features=5,\n",
       "                                                        min_samples_leaf=5,\n",
       "                                                        min_samples_split=30,\n",
       "                                                        n_estimators=250,\n",
       "                                                        random_state=1),\n",
       "                  n_estimators=100, random_state=1)"
      ]
     },
     "execution_count": 103,
     "metadata": {},
     "output_type": "execute_result"
    }
   ],
   "source": [
    "from sklearn.ensemble import BaggingClassifier\n",
    "from sklearn.tree import DecisionTreeClassifier\n",
    "Bagging_model=BaggingClassifier(base_estimator=best_grid,n_estimators=100,random_state=1)\n",
    "Bagging_model.fit(X_train, y_train)"
   ]
  },
  {
   "cell_type": "code",
   "execution_count": 104,
   "metadata": {
    "scrolled": true
   },
   "outputs": [
    {
     "name": "stdout",
     "output_type": "stream",
     "text": [
      "0.8369462770970783\n",
      "[[195 112]\n",
      " [ 61 693]]\n",
      "              precision    recall  f1-score   support\n",
      "\n",
      "           0       0.76      0.64      0.69       307\n",
      "           1       0.86      0.92      0.89       754\n",
      "\n",
      "    accuracy                           0.84      1061\n",
      "   macro avg       0.81      0.78      0.79      1061\n",
      "weighted avg       0.83      0.84      0.83      1061\n",
      "\n"
     ]
    }
   ],
   "source": [
    "ytrain_predict = Bagging_model.predict(X_train)\n",
    "model_score = Bagging_model.score(X_train, y_train)\n",
    "print(model_score)\n",
    "print(metrics.confusion_matrix(y_train, ytrain_predict))\n",
    "print(metrics.classification_report(y_train, ytrain_predict))"
   ]
  },
  {
   "cell_type": "code",
   "execution_count": 105,
   "metadata": {
    "scrolled": false
   },
   "outputs": [
    {
     "name": "stdout",
     "output_type": "stream",
     "text": [
      "0.8114035087719298\n",
      "[[ 99  54]\n",
      " [ 32 271]]\n",
      "              precision    recall  f1-score   support\n",
      "\n",
      "           0       0.76      0.65      0.70       153\n",
      "           1       0.83      0.89      0.86       303\n",
      "\n",
      "    accuracy                           0.81       456\n",
      "   macro avg       0.79      0.77      0.78       456\n",
      "weighted avg       0.81      0.81      0.81       456\n",
      "\n"
     ]
    }
   ],
   "source": [
    "ytest_predict = Bagging_model.predict(X_test)\n",
    "model_score = Bagging_model.score(X_test, y_test)\n",
    "print(model_score)\n",
    "print(metrics.confusion_matrix(y_test, ytest_predict))\n",
    "print(metrics.classification_report(y_test, ytest_predict))"
   ]
  },
  {
   "cell_type": "code",
   "execution_count": 106,
   "metadata": {},
   "outputs": [
    {
     "data": {
      "text/plain": [
       "0.8369462770970783"
      ]
     },
     "execution_count": 106,
     "metadata": {},
     "output_type": "execute_result"
    }
   ],
   "source": [
    "Bagging_train_acc = Bagging_model.score(X_train, y_train)\n",
    "Bagging_train_acc"
   ]
  },
  {
   "cell_type": "code",
   "execution_count": 107,
   "metadata": {},
   "outputs": [
    {
     "data": {
      "text/plain": [
       "0.8114035087719298"
      ]
     },
     "execution_count": 107,
     "metadata": {},
     "output_type": "execute_result"
    }
   ],
   "source": [
    "Bagging_test_acc = Bagging_model.score(X_test, y_test)\n",
    "Bagging_test_acc "
   ]
  },
  {
   "cell_type": "code",
   "execution_count": 108,
   "metadata": {},
   "outputs": [],
   "source": [
    "ytrain_prob = Bagging_model.predict_proba(X_train)\n",
    "ytest_prob = Bagging_model.predict_proba(X_test)"
   ]
  },
  {
   "cell_type": "code",
   "execution_count": 109,
   "metadata": {},
   "outputs": [
    {
     "name": "stdout",
     "output_type": "stream",
     "text": [
      "AUC for the Training Data: 0.910\n",
      "AUC for the Test Data: 0.875\n"
     ]
    },
    {
     "data": {
      "image/png": "[encoded data removed]",
      "text/plain": [
       "<Figure size 432x288 with 1 Axes>"
      ]
     },
     "metadata": {
      "needs_background": "light"
     },
     "output_type": "display_data"
    }
   ],
   "source": [
    "Bagging_train_auc = roc_auc_score(y_train,ytrain_prob[:,1])\n",
    "print('AUC for the Training Data: %.3f' % Bagging_train_auc)\n",
    "\n",
    "Bagging_train_fpr, Bagging_train_tpr, thresholds = roc_curve(y_train,ytrain_prob[:,1])\n",
    "plt.plot([0, 1], [0, 1], linestyle='--')\n",
    "\n",
    "plt.plot(Bagging_train_fpr, Bagging_train_tpr, marker='.',label = 'Training Data')\n",
    "\n",
    "Bagging_test_auc = roc_auc_score(y_test,ytest_prob[:,1])\n",
    "print('AUC for the Test Data: %.3f' % Bagging_test_auc)\n",
    "\n",
    "Bagging_test_fpr, Bagging_test_tpr, thresholds = roc_curve(y_test,ytest_prob[:,1])\n",
    "plt.plot([0, 1], [0, 1], linestyle='--')\n",
    "plt.plot(Bagging_test_fpr, Bagging_test_tpr, marker='.',label='Test Data')\n",
    "plt.legend(loc='best')\n",
    "plt.show()"
   ]
  },
  {
   "cell_type": "code",
   "execution_count": 110,
   "metadata": {},
   "outputs": [
    {
     "name": "stdout",
     "output_type": "stream",
     "text": [
      "Bagging_train_precision 0.86\n",
      "Bagging_train_recall 0.92\n",
      "Bagging_train_f1 0.89\n"
     ]
    }
   ],
   "source": [
    "Bagging_metrics=classification_report(y_train, ytrain_predict,output_dict=True)\n",
    "df1=pd.DataFrame(Bagging_metrics).transpose()\n",
    "Bagging_train_precision=round(df1.loc[\"1\"][0],2)\n",
    "Bagging_train_recall=round(df1.loc[\"1\"][1],2)\n",
    "Bagging_train_f1=round(df1.loc[\"1\"][2],2)\n",
    "print ('Bagging_train_precision',Bagging_train_precision)\n",
    "print ('Bagging_train_recall',Bagging_train_recall)\n",
    "print ('Bagging_train_f1',Bagging_train_f1)"
   ]
  },
  {
   "cell_type": "code",
   "execution_count": 111,
   "metadata": {},
   "outputs": [
    {
     "name": "stdout",
     "output_type": "stream",
     "text": [
      "Bagging_test_precision 0.83\n",
      "Bagging_test_recall 0.89\n",
      "Bagging_test_f1 0.86\n"
     ]
    }
   ],
   "source": [
    "Bagging_metrics=classification_report(y_test, ytest_predict,output_dict=True)\n",
    "df1=pd.DataFrame(Bagging_metrics).transpose()\n",
    "Bagging_test_precision=round(df1.loc[\"1\"][0],2)\n",
    "Bagging_test_recall=round(df1.loc[\"1\"][1],2)\n",
    "Bagging_test_f1=round(df1.loc[\"1\"][2],2)\n",
    "print ('Bagging_test_precision',Bagging_test_precision)\n",
    "print ('Bagging_test_recall',Bagging_test_recall)\n",
    "print ('Bagging_test_f1',Bagging_test_f1)"
   ]
  },
  {
   "cell_type": "code",
   "execution_count": 112,
   "metadata": {},
   "outputs": [
    {
     "name": "stdout",
     "output_type": "stream",
     "text": [
      "                              Imp\n",
      "Hague                    0.357886\n",
      "Blair                    0.267366\n",
      "Europe                   0.104371\n",
      "economic.cond.national   0.100854\n",
      "age                      0.090914\n",
      "political.knowledge      0.039541\n",
      "economic.cond.household  0.031199\n",
      "Gender_male              0.007868\n"
     ]
    }
   ],
   "source": [
    "print (pd.DataFrame(best_grid.feature_importances_, columns = [\"Imp\"], index = X_train.columns).sort_values('Imp',ascending=False))"
   ]
  },
  {
   "cell_type": "markdown",
   "metadata": {},
   "source": [
    "### BOOSTING"
   ]
  },
  {
   "cell_type": "markdown",
   "metadata": {},
   "source": [
    "## ADA boost"
   ]
  },
  {
   "cell_type": "code",
   "execution_count": 113,
   "metadata": {},
   "outputs": [
    {
     "data": {
      "text/plain": [
       "AdaBoostClassifier(n_estimators=200, random_state=1)"
      ]
     },
     "execution_count": 113,
     "metadata": {},
     "output_type": "execute_result"
    }
   ],
   "source": [
    "from sklearn.ensemble import AdaBoostClassifier\n",
    "ADB_model = AdaBoostClassifier(base_estimator=None,n_estimators=200,algorithm='SAMME.R',learning_rate=1.0,random_state=1)\n",
    "ADB_model.fit(X_train,y_train)"
   ]
  },
  {
   "cell_type": "code",
   "execution_count": 114,
   "metadata": {
    "scrolled": true
   },
   "outputs": [
    {
     "name": "stdout",
     "output_type": "stream",
     "text": [
      "0.8567389255419415\n",
      "[[218  89]\n",
      " [ 63 691]]\n",
      "              precision    recall  f1-score   support\n",
      "\n",
      "           0       0.78      0.71      0.74       307\n",
      "           1       0.89      0.92      0.90       754\n",
      "\n",
      "    accuracy                           0.86      1061\n",
      "   macro avg       0.83      0.81      0.82      1061\n",
      "weighted avg       0.85      0.86      0.85      1061\n",
      "\n"
     ]
    }
   ],
   "source": [
    "ytrain_predict = ADB_model.predict(X_train)\n",
    "model_score = ADB_model.score(X_train, y_train)\n",
    "print(model_score)\n",
    "print(metrics.confusion_matrix(y_train, ytrain_predict))\n",
    "print(metrics.classification_report(y_train, ytrain_predict))"
   ]
  },
  {
   "cell_type": "code",
   "execution_count": 115,
   "metadata": {
    "scrolled": false
   },
   "outputs": [
    {
     "name": "stdout",
     "output_type": "stream",
     "text": [
      "0.8135964912280702\n",
      "[[103  50]\n",
      " [ 35 268]]\n",
      "              precision    recall  f1-score   support\n",
      "\n",
      "           0       0.75      0.67      0.71       153\n",
      "           1       0.84      0.88      0.86       303\n",
      "\n",
      "    accuracy                           0.81       456\n",
      "   macro avg       0.79      0.78      0.79       456\n",
      "weighted avg       0.81      0.81      0.81       456\n",
      "\n"
     ]
    }
   ],
   "source": [
    "ytest_predict = ADB_model.predict(X_test)\n",
    "model_score = ADB_model.score(X_test, y_test)\n",
    "print(model_score)\n",
    "print(metrics.confusion_matrix(y_test, ytest_predict))\n",
    "print(metrics.classification_report(y_test, ytest_predict))"
   ]
  },
  {
   "cell_type": "code",
   "execution_count": 116,
   "metadata": {},
   "outputs": [
    {
     "data": {
      "text/plain": [
       "0.8567389255419415"
      ]
     },
     "execution_count": 116,
     "metadata": {},
     "output_type": "execute_result"
    }
   ],
   "source": [
    "ada_train_acc = ADB_model.score(X_train, y_train)\n",
    "ada_train_acc"
   ]
  },
  {
   "cell_type": "code",
   "execution_count": 117,
   "metadata": {},
   "outputs": [
    {
     "data": {
      "text/plain": [
       "0.8135964912280702"
      ]
     },
     "execution_count": 117,
     "metadata": {},
     "output_type": "execute_result"
    }
   ],
   "source": [
    "ada_test_acc = ADB_model.score(X_test, y_test)\n",
    "ada_test_acc"
   ]
  },
  {
   "cell_type": "code",
   "execution_count": 118,
   "metadata": {},
   "outputs": [],
   "source": [
    "ytrain_prob = ADB_model.predict_proba(X_train)\n",
    "ytest_prob = ADB_model.predict_proba(X_test)"
   ]
  },
  {
   "cell_type": "code",
   "execution_count": 119,
   "metadata": {},
   "outputs": [
    {
     "name": "stdout",
     "output_type": "stream",
     "text": [
      "AUC for the Training Data: 0.918\n",
      "AUC for the Test Data: 0.875\n"
     ]
    },
    {
     "data": {
      "image/png": "[encoded data removed]",
      "text/plain": [
       "<Figure size 432x288 with 1 Axes>"
      ]
     },
     "metadata": {
      "needs_background": "light"
     },
     "output_type": "display_data"
    }
   ],
   "source": [
    "ada_train_auc = roc_auc_score(y_train,ytrain_prob[:,1])\n",
    "print('AUC for the Training Data: %.3f' % ada_train_auc)\n",
    "\n",
    "ada_train_fpr, ada_train_tpr, thresholds = roc_curve(y_train,ytrain_prob[:,1])\n",
    "plt.plot([0, 1], [0, 1], linestyle='--')\n",
    "\n",
    "plt.plot(ada_train_fpr, ada_train_tpr, marker='.',label = 'Training Data')\n",
    "\n",
    "ada_test_auc = roc_auc_score(y_test,ytest_prob[:,1])\n",
    "print('AUC for the Test Data: %.3f' % ada_test_auc)\n",
    "\n",
    "ada_test_fpr,ada_test_tpr, thresholds = roc_curve(y_test,ytest_prob[:,1])\n",
    "plt.plot([0, 1], [0, 1], linestyle='--')\n",
    "plt.plot(ada_test_fpr, ada_test_tpr, marker='.',label='Test Data')\n",
    "plt.legend(loc='best')\n",
    "plt.show()"
   ]
  },
  {
   "cell_type": "code",
   "execution_count": 120,
   "metadata": {},
   "outputs": [
    {
     "name": "stdout",
     "output_type": "stream",
     "text": [
      "ada_train_precision 0.89\n",
      "ada_train_recall 0.92\n",
      "ada_train_f1 0.9\n"
     ]
    }
   ],
   "source": [
    "ada_metrics=classification_report(y_train, ytrain_predict,output_dict=True)\n",
    "df1=pd.DataFrame(ada_metrics).transpose()\n",
    "ada_train_precision=round(df1.loc[\"1\"][0],2)\n",
    "ada_train_recall=round(df1.loc[\"1\"][1],2)\n",
    "ada_train_f1=round(df1.loc[\"1\"][2],2)\n",
    "print ('ada_train_precision',ada_train_precision)\n",
    "print ('ada_train_recall',ada_train_recall)\n",
    "print ('ada_train_f1',ada_train_f1)"
   ]
  },
  {
   "cell_type": "code",
   "execution_count": 121,
   "metadata": {},
   "outputs": [
    {
     "name": "stdout",
     "output_type": "stream",
     "text": [
      "ada_test_precision 0.84\n",
      "ada_test_recall 0.88\n",
      "ada_test_f1 0.86\n"
     ]
    }
   ],
   "source": [
    "ada_metrics=classification_report(y_test, ytest_predict,output_dict=True)\n",
    "df1=pd.DataFrame(ada_metrics).transpose()\n",
    "ada_test_precision=round(df1.loc[\"1\"][0],2)\n",
    "ada_test_recall=round(df1.loc[\"1\"][1],2)\n",
    "ada_test_f1=round(df1.loc[\"1\"][2],2)\n",
    "print ('ada_test_precision',ada_test_precision)\n",
    "print ('ada_test_recall',ada_test_recall)\n",
    "print ('ada_test_f1',ada_test_f1)"
   ]
  },
  {
   "cell_type": "code",
   "execution_count": null,
   "metadata": {},
   "outputs": [],
   "source": []
  },
  {
   "cell_type": "markdown",
   "metadata": {},
   "source": [
    "## Gradient Boosting"
   ]
  },
  {
   "cell_type": "code",
   "execution_count": 122,
   "metadata": {},
   "outputs": [],
   "source": [
    "from sklearn.ensemble import GradientBoostingClassifier\n",
    "gbcl = GradientBoostingClassifier(n_estimators = 50,random_state=1)\n",
    "gbcl = gbcl.fit(X_train, y_train)"
   ]
  },
  {
   "cell_type": "code",
   "execution_count": 123,
   "metadata": {},
   "outputs": [],
   "source": [
    "param_grid = {\n",
    "    'max_depth': [2,5],\n",
    "    'max_features': [2,5],\n",
    "    'min_samples_leaf': [5,7],\n",
    "    'min_samples_split': [30,60,90],\n",
    "    'n_estimators': [50,100,250],\n",
    "     'tol':[0.0001]\n",
    "    \n",
    "}\n",
    "\n",
    "gbcl = GradientBoostingClassifier(random_state=1)\n",
    "\n",
    "grid_search = GridSearchCV(estimator = gbcl, param_grid = param_grid, cv = 5)"
   ]
  },
  {
   "cell_type": "code",
   "execution_count": 124,
   "metadata": {},
   "outputs": [
    {
     "data": {
      "text/plain": [
       "GridSearchCV(cv=5, estimator=GradientBoostingClassifier(random_state=1),\n",
       "             param_grid={'max_depth': [2, 5], 'max_features': [2, 5],\n",
       "                         'min_samples_leaf': [5, 7],\n",
       "                         'min_samples_split': [30, 60, 90],\n",
       "                         'n_estimators': [50, 100, 250], 'tol': [0.0001]})"
      ]
     },
     "execution_count": 124,
     "metadata": {},
     "output_type": "execute_result"
    }
   ],
   "source": [
    "grid_search.fit(X_train, y_train)"
   ]
  },
  {
   "cell_type": "code",
   "execution_count": 125,
   "metadata": {},
   "outputs": [
    {
     "data": {
      "text/plain": [
       "{'max_depth': 2,\n",
       " 'max_features': 2,\n",
       " 'min_samples_leaf': 5,\n",
       " 'min_samples_split': 60,\n",
       " 'n_estimators': 100,\n",
       " 'tol': 0.0001}"
      ]
     },
     "execution_count": 125,
     "metadata": {},
     "output_type": "execute_result"
    }
   ],
   "source": [
    "grid_search.best_params_"
   ]
  },
  {
   "cell_type": "code",
   "execution_count": 126,
   "metadata": {},
   "outputs": [],
   "source": [
    "best_grid = grid_search.best_estimator_"
   ]
  },
  {
   "cell_type": "code",
   "execution_count": 127,
   "metadata": {},
   "outputs": [
    {
     "data": {
      "text/plain": [
       "GradientBoostingClassifier(max_depth=2, max_features=2, min_samples_leaf=5,\n",
       "                           min_samples_split=60, random_state=1)"
      ]
     },
     "execution_count": 127,
     "metadata": {},
     "output_type": "execute_result"
    }
   ],
   "source": [
    "best_grid"
   ]
  },
  {
   "cell_type": "code",
   "execution_count": 128,
   "metadata": {},
   "outputs": [],
   "source": [
    "ytrain_predict = best_grid.predict(X_train)\n",
    "ytest_predict = best_grid.predict(X_test)"
   ]
  },
  {
   "cell_type": "code",
   "execution_count": 129,
   "metadata": {},
   "outputs": [
    {
     "data": {
      "text/plain": [
       "0.8539114043355325"
      ]
     },
     "execution_count": 129,
     "metadata": {},
     "output_type": "execute_result"
    }
   ],
   "source": [
    "best_grid.score(X_train,y_train)"
   ]
  },
  {
   "cell_type": "code",
   "execution_count": 130,
   "metadata": {},
   "outputs": [
    {
     "data": {
      "text/plain": [
       "0.8245614035087719"
      ]
     },
     "execution_count": 130,
     "metadata": {},
     "output_type": "execute_result"
    }
   ],
   "source": [
    "best_grid.score(X_test,y_test)"
   ]
  },
  {
   "cell_type": "code",
   "execution_count": 131,
   "metadata": {},
   "outputs": [
    {
     "name": "stdout",
     "output_type": "stream",
     "text": [
      "0.8539114043355325\n",
      "[[207 100]\n",
      " [ 55 699]]\n",
      "              precision    recall  f1-score   support\n",
      "\n",
      "           0       0.79      0.67      0.73       307\n",
      "           1       0.87      0.93      0.90       754\n",
      "\n",
      "    accuracy                           0.85      1061\n",
      "   macro avg       0.83      0.80      0.81      1061\n",
      "weighted avg       0.85      0.85      0.85      1061\n",
      "\n"
     ]
    }
   ],
   "source": [
    "ytrain_predict = best_grid.predict(X_train)\n",
    "model_score = best_grid.score(X_train, y_train)\n",
    "print(model_score)\n",
    "print(metrics.confusion_matrix(y_train, ytrain_predict))\n",
    "print(metrics.classification_report(y_train, ytrain_predict))"
   ]
  },
  {
   "cell_type": "code",
   "execution_count": 132,
   "metadata": {},
   "outputs": [
    {
     "name": "stdout",
     "output_type": "stream",
     "text": [
      "0.8245614035087719\n",
      "[[105  48]\n",
      " [ 32 271]]\n",
      "              precision    recall  f1-score   support\n",
      "\n",
      "           0       0.77      0.69      0.72       153\n",
      "           1       0.85      0.89      0.87       303\n",
      "\n",
      "    accuracy                           0.82       456\n",
      "   macro avg       0.81      0.79      0.80       456\n",
      "weighted avg       0.82      0.82      0.82       456\n",
      "\n"
     ]
    }
   ],
   "source": [
    "ytest_predict = best_grid.predict(X_test)\n",
    "model_score = best_grid.score(X_test, y_test)\n",
    "print(model_score)\n",
    "print(metrics.confusion_matrix(y_test, ytest_predict))\n",
    "print(metrics.classification_report(y_test, ytest_predict))"
   ]
  },
  {
   "cell_type": "code",
   "execution_count": 133,
   "metadata": {},
   "outputs": [
    {
     "data": {
      "text/plain": [
       "0.8539114043355325"
      ]
     },
     "execution_count": 133,
     "metadata": {},
     "output_type": "execute_result"
    }
   ],
   "source": [
    "gradient_train_acc = best_grid.score(X_train, y_train)\n",
    "gradient_train_acc"
   ]
  },
  {
   "cell_type": "code",
   "execution_count": 134,
   "metadata": {},
   "outputs": [
    {
     "data": {
      "text/plain": [
       "0.8245614035087719"
      ]
     },
     "execution_count": 134,
     "metadata": {},
     "output_type": "execute_result"
    }
   ],
   "source": [
    "gradient_test_acc = best_grid.score(X_test, y_test)\n",
    "gradient_test_acc"
   ]
  },
  {
   "cell_type": "code",
   "execution_count": 135,
   "metadata": {},
   "outputs": [],
   "source": [
    "ytrain_prob = best_grid.predict_proba(X_train)\n",
    "ytest_prob = best_grid.predict_proba(X_test)"
   ]
  },
  {
   "cell_type": "code",
   "execution_count": 136,
   "metadata": {},
   "outputs": [
    {
     "name": "stdout",
     "output_type": "stream",
     "text": [
      "AUC for the Training Data: 0.915\n",
      "AUC for the Test Data: 0.887\n"
     ]
    },
    {
     "data": {
      "image/png": "[encoded data removed]",
      "text/plain": [
       "<Figure size 432x288 with 1 Axes>"
      ]
     },
     "metadata": {
      "needs_background": "light"
     },
     "output_type": "display_data"
    }
   ],
   "source": [
    "gradient_train_auc = roc_auc_score(y_train,ytrain_prob[:,1])\n",
    "print('AUC for the Training Data: %.3f' % gradient_train_auc)\n",
    "\n",
    "gradient_train_fpr, gradient_train_tpr, thresholds = roc_curve(y_train,ytrain_prob[:,1])\n",
    "plt.plot([0, 1], [0, 1], linestyle='--')\n",
    "\n",
    "plt.plot(gradient_train_fpr, gradient_train_tpr, marker='.',label = 'Training Data')\n",
    "\n",
    "gradient_test_auc = roc_auc_score(y_test,ytest_prob[:,1])\n",
    "print('AUC for the Test Data: %.3f' % gradient_test_auc)\n",
    "\n",
    "gradient_test_fpr,gradient_test_tpr, thresholds = roc_curve(y_test,ytest_prob[:,1])\n",
    "plt.plot([0, 1], [0, 1], linestyle='--')\n",
    "plt.plot(gradient_test_fpr,gradient_test_tpr, marker='.',label='Test Data')\n",
    "plt.legend(loc='best')\n",
    "plt.show()"
   ]
  },
  {
   "cell_type": "code",
   "execution_count": 137,
   "metadata": {},
   "outputs": [
    {
     "name": "stdout",
     "output_type": "stream",
     "text": [
      "gradient_train_precision 0.87\n",
      "gradient_train_recall 0.93\n",
      "gradient_train_f1 0.9\n"
     ]
    }
   ],
   "source": [
    "gradient_metrics=classification_report(y_train, ytrain_predict,output_dict=True)\n",
    "df1=pd.DataFrame(gradient_metrics).transpose()\n",
    "gradient_train_precision=round(df1.loc[\"1\"][0],2)\n",
    "gradient_train_recall=round(df1.loc[\"1\"][1],2)\n",
    "gradient_train_f1=round(df1.loc[\"1\"][2],2)\n",
    "print ('gradient_train_precision',gradient_train_precision)\n",
    "print ('gradient_train_recall',gradient_train_recall)\n",
    "print ('gradient_train_f1',gradient_train_f1)"
   ]
  },
  {
   "cell_type": "code",
   "execution_count": 138,
   "metadata": {},
   "outputs": [
    {
     "name": "stdout",
     "output_type": "stream",
     "text": [
      "gradient_test_precision 0.84\n",
      "gradient_test_recall 0.88\n",
      "gradient_test_f1 0.86\n"
     ]
    }
   ],
   "source": [
    "gradient_metrics=classification_report(y_test, ytest_predict,output_dict=True)\n",
    "df1=pd.DataFrame(ada_metrics).transpose()\n",
    "gradient_test_precision=round(df1.loc[\"1\"][0],2)\n",
    "gradient_test_recall=round(df1.loc[\"1\"][1],2)\n",
    "gradient_test_f1=round(df1.loc[\"1\"][2],2)\n",
    "print ('gradient_test_precision',gradient_test_precision)\n",
    "print ('gradient_test_recall',gradient_test_recall)\n",
    "print ('gradient_test_f1',gradient_test_f1) "
   ]
  },
  {
   "cell_type": "code",
   "execution_count": 139,
   "metadata": {},
   "outputs": [],
   "source": [
    "df1 = df.copy()"
   ]
  },
  {
   "cell_type": "code",
   "execution_count": 140,
   "metadata": {},
   "outputs": [
    {
     "data": {
      "text/html": [
       "<div>\n",
       "<style scoped>\n",
       "    .dataframe tbody tr th:only-of-type {\n",
       "        vertical-align: middle;\n",
       "    }\n",
       "\n",
       "    .dataframe tbody tr th {\n",
       "        vertical-align: top;\n",
       "    }\n",
       "\n",
       "    .dataframe thead th {\n",
       "        text-align: right;\n",
       "    }\n",
       "</style>\n",
       "<table border=\"1\" class=\"dataframe\">\n",
       "  <thead>\n",
       "    <tr style=\"text-align: right;\">\n",
       "      <th></th>\n",
       "      <th>LOGISTICS TRAIN</th>\n",
       "      <th>LOGISTICS Test</th>\n",
       "      <th>LDA Train</th>\n",
       "      <th>LDA Test</th>\n",
       "      <th>KNN TRAIN</th>\n",
       "      <th>KNN TEST</th>\n",
       "      <th>NAIVE Train</th>\n",
       "      <th>NAIVE TEST</th>\n",
       "      <th>RF BAGGING TRAIN</th>\n",
       "      <th>RF BAGGING TEST</th>\n",
       "      <th>ADA TRAIN</th>\n",
       "      <th>ADA TEST</th>\n",
       "      <th>GRADIENT TRAIN</th>\n",
       "      <th>GRADIENT TEST</th>\n",
       "    </tr>\n",
       "  </thead>\n",
       "  <tbody>\n",
       "    <tr>\n",
       "      <th>Accuracy</th>\n",
       "      <td>0.82</td>\n",
       "      <td>0.79</td>\n",
       "      <td>0.82</td>\n",
       "      <td>0.80</td>\n",
       "      <td>0.85</td>\n",
       "      <td>0.80</td>\n",
       "      <td>0.82</td>\n",
       "      <td>0.79</td>\n",
       "      <td>0.84</td>\n",
       "      <td>0.81</td>\n",
       "      <td>0.86</td>\n",
       "      <td>0.81</td>\n",
       "      <td>0.85</td>\n",
       "      <td>0.82</td>\n",
       "    </tr>\n",
       "    <tr>\n",
       "      <th>AUC</th>\n",
       "      <td>0.88</td>\n",
       "      <td>0.86</td>\n",
       "      <td>0.88</td>\n",
       "      <td>0.87</td>\n",
       "      <td>0.93</td>\n",
       "      <td>0.86</td>\n",
       "      <td>0.88</td>\n",
       "      <td>0.86</td>\n",
       "      <td>0.91</td>\n",
       "      <td>0.87</td>\n",
       "      <td>0.92</td>\n",
       "      <td>0.87</td>\n",
       "      <td>0.92</td>\n",
       "      <td>0.89</td>\n",
       "    </tr>\n",
       "    <tr>\n",
       "      <th>Recall</th>\n",
       "      <td>0.91</td>\n",
       "      <td>0.88</td>\n",
       "      <td>0.90</td>\n",
       "      <td>0.88</td>\n",
       "      <td>0.91</td>\n",
       "      <td>0.86</td>\n",
       "      <td>0.89</td>\n",
       "      <td>0.85</td>\n",
       "      <td>0.92</td>\n",
       "      <td>0.89</td>\n",
       "      <td>0.92</td>\n",
       "      <td>0.88</td>\n",
       "      <td>0.93</td>\n",
       "      <td>0.88</td>\n",
       "    </tr>\n",
       "    <tr>\n",
       "      <th>Precision</th>\n",
       "      <td>0.85</td>\n",
       "      <td>0.82</td>\n",
       "      <td>0.85</td>\n",
       "      <td>0.83</td>\n",
       "      <td>0.89</td>\n",
       "      <td>0.84</td>\n",
       "      <td>0.85</td>\n",
       "      <td>0.84</td>\n",
       "      <td>0.86</td>\n",
       "      <td>0.83</td>\n",
       "      <td>0.89</td>\n",
       "      <td>0.84</td>\n",
       "      <td>0.87</td>\n",
       "      <td>0.84</td>\n",
       "    </tr>\n",
       "    <tr>\n",
       "      <th>F1 Score</th>\n",
       "      <td>0.88</td>\n",
       "      <td>0.85</td>\n",
       "      <td>0.88</td>\n",
       "      <td>0.85</td>\n",
       "      <td>0.90</td>\n",
       "      <td>0.85</td>\n",
       "      <td>0.87</td>\n",
       "      <td>0.85</td>\n",
       "      <td>0.89</td>\n",
       "      <td>0.86</td>\n",
       "      <td>0.90</td>\n",
       "      <td>0.86</td>\n",
       "      <td>0.90</td>\n",
       "      <td>0.86</td>\n",
       "    </tr>\n",
       "  </tbody>\n",
       "</table>\n",
       "</div>"
      ],
      "text/plain": [
       "           LOGISTICS TRAIN  LOGISTICS Test  LDA Train  LDA Test  KNN TRAIN  \\\n",
       "Accuracy              0.82            0.79       0.82      0.80       0.85   \n",
       "AUC                   0.88            0.86       0.88      0.87       0.93   \n",
       "Recall                0.91            0.88       0.90      0.88       0.91   \n",
       "Precision             0.85            0.82       0.85      0.83       0.89   \n",
       "F1 Score              0.88            0.85       0.88      0.85       0.90   \n",
       "\n",
       "           KNN TEST  NAIVE Train  NAIVE TEST  RF BAGGING TRAIN  \\\n",
       "Accuracy       0.80         0.82        0.79              0.84   \n",
       "AUC            0.86         0.88        0.86              0.91   \n",
       "Recall         0.86         0.89        0.85              0.92   \n",
       "Precision      0.84         0.85        0.84              0.86   \n",
       "F1 Score       0.85         0.87        0.85              0.89   \n",
       "\n",
       "           RF BAGGING TEST  ADA TRAIN  ADA TEST  GRADIENT TRAIN  GRADIENT TEST  \n",
       "Accuracy              0.81       0.86      0.81            0.85           0.82  \n",
       "AUC                   0.87       0.92      0.87            0.92           0.89  \n",
       "Recall                0.89       0.92      0.88            0.93           0.88  \n",
       "Precision             0.83       0.89      0.84            0.87           0.84  \n",
       "F1 Score              0.86       0.90      0.86            0.90           0.86  "
      ]
     },
     "execution_count": 140,
     "metadata": {},
     "output_type": "execute_result"
    }
   ],
   "source": [
    "index=['Accuracy', 'AUC', 'Recall','Precision','F1 Score']\n",
    "data = pd.DataFrame({'LOGISTICS TRAIN':[logis_train_acc,logis_train_auc,logis_train_recall,logis_train_precision,logis_train_f1],\n",
    "                     'LOGISTICS Test':[logis_test_acc,logis_test_auc,logis_test_recall,logis_test_precision,logis_test_f1],\n",
    "                    'LDA Train':[lda_train_acc,lda_train_auc,lda_train_recall,lda_train_precision,lda_train_f1],\n",
    "                    'LDA Test':[lda_test_acc,lda_test_auc,lda_test_recall,lda_test_precision,lda_test_f1],\n",
    "                    'KNN TRAIN':[KNN_train_acc,KNN_train_auc,KNN_train_recall,KNN_train_precision,KNN_train_f1],\n",
    "                    'KNN TEST':[KNN_test_acc,KNN_test_auc,KNN_test_recall,KNN_test_precision,KNN_test_f1],\n",
    "                    'NAIVE Train':[NAIVE_train_acc,NAIVE_train_auc,NAIVE_train_recall,NAIVE_train_precision,NAIVE_train_f1],\n",
    "                    'NAIVE TEST':[NAIVE_test_acc,NAIVE_test_auc,NAIVE_test_recall,NAIVE_test_precision,NAIVE_test_f1],\n",
    "                    'RF BAGGING TRAIN':[Bagging_train_acc,Bagging_train_auc,Bagging_train_recall,Bagging_train_precision,Bagging_train_f1],\n",
    "                    'RF BAGGING TEST':[Bagging_test_acc,Bagging_test_auc,Bagging_test_recall,Bagging_test_precision,Bagging_test_f1],\n",
    "                    'ADA TRAIN':[ada_train_acc,ada_train_auc,ada_train_recall,ada_train_precision,ada_train_f1],\n",
    "                    'ADA TEST':[ada_test_acc,ada_test_auc,ada_test_recall,ada_test_precision,ada_test_f1],\n",
    "                    'GRADIENT TRAIN':[gradient_train_acc,gradient_train_auc,gradient_train_recall,gradient_train_precision,gradient_train_f1],\n",
    "                    'GRADIENT TEST':[gradient_test_acc,gradient_test_auc,gradient_test_recall,gradient_test_precision,gradient_test_f1]},index=index)\n",
    "       \n",
    "round(data,2) "
   ]
  },
  {
   "cell_type": "code",
   "execution_count": 141,
   "metadata": {},
   "outputs": [
    {
     "data": {
      "image/png": "[encoded data removed]",
      "text/plain": [
       "<Figure size 432x288 with 1 Axes>"
      ]
     },
     "metadata": {
      "needs_background": "light"
     },
     "output_type": "display_data"
    }
   ],
   "source": [
    "plt.plot([0, 1], [0, 1], linestyle='--')\n",
    "plt.plot(logis_train_fpr, logis_train_tpr,color='red',label=\"LOGISTIC\")\n",
    "plt.plot(lda_train_fpr,lda_train_tpr,color='green',label=\"LDA\")\n",
    "plt.plot(KNN_train_fpr,KNN_train_tpr,color='black',label=\"KNN\")\n",
    "plt.plot(NAIVE_train_fpr,NAIVE_train_tpr,color='blue',label=\"NAIVE\")\n",
    "plt.plot(Bagging_train_fpr,Bagging_train_tpr,color='yellow',label=\"BAGGING\")\n",
    "plt.plot(ada_train_fpr,ada_train_tpr,color='lime',label=\"ADA\")\n",
    "plt.plot(gradient_train_fpr,gradient_train_tpr,color='aquamarine',label=\"GRADIENT\")\n",
    "plt.xlabel('False Positive Rate')\n",
    "plt.ylabel('True Positive Rate')\n",
    "plt.title('ROC')\n",
    "plt.legend(bbox_to_anchor=(0., 1.02, 1., .102), loc='lower right');"
   ]
  },
  {
   "cell_type": "code",
   "execution_count": 142,
   "metadata": {},
   "outputs": [
    {
     "data": {
      "image/png": "[encoded data removed]",
      "text/plain": [
       "<Figure size 432x288 with 1 Axes>"
      ]
     },
     "metadata": {
      "needs_background": "light"
     },
     "output_type": "display_data"
    }
   ],
   "source": [
    "plt.plot([0, 1], [0, 1], linestyle='--')\n",
    "plt.plot(logis_test_fpr, logis_test_tpr,color='red',label=\"LOGISTICS\")\n",
    "plt.plot(lda_test_fpr,lda_test_tpr,color='green',label=\"LDA\")\n",
    "plt.plot(KNN_test_fpr,KNN_test_tpr,color='black',label=\"KNN\")\n",
    "plt.plot(NAIVE_test_fpr, NAIVE_test_tpr,color='blue',label=\"NAIVE\")\n",
    "plt.plot(Bagging_test_fpr,Bagging_test_tpr,color='yellow',label=\"BAGGING\")\n",
    "plt.plot(ada_test_fpr,ada_test_tpr,color='lime',label=\"ADA\")\n",
    "plt.plot(gradient_test_fpr,gradient_test_tpr,color='aquamarine',label=\"GRADIENT\")\n",
    "plt.xlabel('False Positive Rate')\n",
    "plt.ylabel('True Positive Rate')\n",
    "plt.title('ROC')\n",
    "plt.legend(bbox_to_anchor=(0., 1.02, 1., .102), loc='lower right');"
   ]
  },
  {
   "cell_type": "code",
   "execution_count": null,
   "metadata": {},
   "outputs": [],
   "source": []
  }
 ],
 "metadata": {
  "kernelspec": {
   "display_name": "Python 3",
   "language": "python",
   "name": "python3"
  },
  "language_info": {
   "codemirror_mode": {
    "name": "ipython",
    "version": 3
   },
   "file_extension": ".py",
   "mimetype": "text/x-python",
   "name": "python",
   "nbconvert_exporter": "python",
   "pygments_lexer": "ipython3",
   "version": "3.7.9"
  }
 },
 "nbformat": 4,
 "nbformat_minor": 4
}
